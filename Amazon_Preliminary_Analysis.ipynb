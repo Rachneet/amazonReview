{
 "cells": [
  {
   "cell_type": "code",
   "execution_count": 1,
   "metadata": {},
   "outputs": [],
   "source": [
    "%matplotlib notebook\n",
    "%matplotlib inline\n",
    "import pandas as pd\n",
    "import csv\n",
    "import numpy as np\n",
    "import matplotlib.pyplot as plt"
   ]
  },
  {
   "cell_type": "code",
   "execution_count": 3,
   "metadata": {},
   "outputs": [],
   "source": [
    "#read csv\n",
    "amazon_df = pd.read_csv('/media/backup/Data/Amazon/amazon_mostly_male.csv', sep='|',encoding='utf8',quoting=csv.QUOTE_NONE, dtype={'Overall_Rating':float, 'Timestamp': int})"
   ]
  },
  {
   "cell_type": "code",
   "execution_count": 4,
   "metadata": {},
   "outputs": [],
   "source": [
    "#arranging row index\n",
    "amazon_df.index = amazon_df.index+1"
   ]
  },
  {
   "cell_type": "code",
   "execution_count": 5,
   "metadata": {},
   "outputs": [
    {
     "data": {
      "text/html": [
       "<div>\n",
       "<style scoped>\n",
       "    .dataframe tbody tr th:only-of-type {\n",
       "        vertical-align: middle;\n",
       "    }\n",
       "\n",
       "    .dataframe tbody tr th {\n",
       "        vertical-align: top;\n",
       "    }\n",
       "\n",
       "    .dataframe thead th {\n",
       "        text-align: right;\n",
       "    }\n",
       "</style>\n",
       "<table border=\"1\" class=\"dataframe\">\n",
       "  <thead>\n",
       "    <tr style=\"text-align: right;\">\n",
       "      <th></th>\n",
       "      <th>Reviewer_Id</th>\n",
       "      <th>Product_Id</th>\n",
       "      <th>Name</th>\n",
       "      <th>Gender</th>\n",
       "      <th>Helpfulness</th>\n",
       "      <th>Review</th>\n",
       "      <th>Overall_Rating</th>\n",
       "      <th>Timestamp</th>\n",
       "    </tr>\n",
       "  </thead>\n",
       "  <tbody>\n",
       "    <tr>\n",
       "      <th>1</th>\n",
       "      <td>A00014061C2IZNE0YEILY</td>\n",
       "      <td>B00EKSG8JU</td>\n",
       "      <td>Randy BowenJillian Moore</td>\n",
       "      <td>mostly_male</td>\n",
       "      <td>0,0</td>\n",
       "      <td>I like the case however, it fits loosely and t...</td>\n",
       "      <td>4.0</td>\n",
       "      <td>1390348800</td>\n",
       "    </tr>\n",
       "    <tr>\n",
       "      <th>2</th>\n",
       "      <td>A0002730WOKVUCGRLYJU</td>\n",
       "      <td>B00I06MYMI</td>\n",
       "      <td>Bay Rodriguez</td>\n",
       "      <td>mostly_male</td>\n",
       "      <td>0,0</td>\n",
       "      <td>The ADAPTER snapped as soon as I put my phone ...</td>\n",
       "      <td>1.0</td>\n",
       "      <td>1405814400</td>\n",
       "    </tr>\n",
       "    <tr>\n",
       "      <th>3</th>\n",
       "      <td>A00028781NF0U7YEN9U19</td>\n",
       "      <td>B000CNKQ3G</td>\n",
       "      <td>Shawn Carr</td>\n",
       "      <td>mostly_male</td>\n",
       "      <td>0,0</td>\n",
       "      <td>The shirt is all I hoped for and more!! If you...</td>\n",
       "      <td>5.0</td>\n",
       "      <td>1400976000</td>\n",
       "    </tr>\n",
       "    <tr>\n",
       "      <th>4</th>\n",
       "      <td>A00028781NF0U7YEN9U19</td>\n",
       "      <td>B00B4HQ6Z6</td>\n",
       "      <td>Shawn Carr</td>\n",
       "      <td>mostly_male</td>\n",
       "      <td>0,0</td>\n",
       "      <td>Birthday gift for a friend and she loves it!!</td>\n",
       "      <td>5.0</td>\n",
       "      <td>1405814400</td>\n",
       "    </tr>\n",
       "    <tr>\n",
       "      <th>5</th>\n",
       "      <td>A00028781NF0U7YEN9U19</td>\n",
       "      <td>B00CBKJN64</td>\n",
       "      <td>Shawn Carr</td>\n",
       "      <td>mostly_male</td>\n",
       "      <td>0,0</td>\n",
       "      <td>I purchased this great Beatles T Shirt for my ...</td>\n",
       "      <td>5.0</td>\n",
       "      <td>1405814400</td>\n",
       "    </tr>\n",
       "  </tbody>\n",
       "</table>\n",
       "</div>"
      ],
      "text/plain": [
       "             Reviewer_Id  Product_Id                      Name       Gender  \\\n",
       "1  A00014061C2IZNE0YEILY  B00EKSG8JU  Randy BowenJillian Moore  mostly_male   \n",
       "2   A0002730WOKVUCGRLYJU  B00I06MYMI             Bay Rodriguez  mostly_male   \n",
       "3  A00028781NF0U7YEN9U19  B000CNKQ3G                Shawn Carr  mostly_male   \n",
       "4  A00028781NF0U7YEN9U19  B00B4HQ6Z6                Shawn Carr  mostly_male   \n",
       "5  A00028781NF0U7YEN9U19  B00CBKJN64                Shawn Carr  mostly_male   \n",
       "\n",
       "  Helpfulness                                             Review  \\\n",
       "1         0,0  I like the case however, it fits loosely and t...   \n",
       "2         0,0  The ADAPTER snapped as soon as I put my phone ...   \n",
       "3         0,0  The shirt is all I hoped for and more!! If you...   \n",
       "4         0,0      Birthday gift for a friend and she loves it!!   \n",
       "5         0,0  I purchased this great Beatles T Shirt for my ...   \n",
       "\n",
       "   Overall_Rating   Timestamp  \n",
       "1             4.0  1390348800  \n",
       "2             1.0  1405814400  \n",
       "3             5.0  1400976000  \n",
       "4             5.0  1405814400  \n",
       "5             5.0  1405814400  "
      ]
     },
     "execution_count": 5,
     "metadata": {},
     "output_type": "execute_result"
    }
   ],
   "source": [
    "amazon_df.head()"
   ]
  },
  {
   "cell_type": "code",
   "execution_count": 6,
   "metadata": {},
   "outputs": [],
   "source": [
    "#splitting helpfulness to upvotes and downvotes\n",
    "amazon_df['Upvotes'],amazon_df['Downvotes']= amazon_df['Helpfulness'].str.split(',',1).str"
   ]
  },
  {
   "cell_type": "code",
   "execution_count": 7,
   "metadata": {},
   "outputs": [
    {
     "data": {
      "text/html": [
       "<div>\n",
       "<style scoped>\n",
       "    .dataframe tbody tr th:only-of-type {\n",
       "        vertical-align: middle;\n",
       "    }\n",
       "\n",
       "    .dataframe tbody tr th {\n",
       "        vertical-align: top;\n",
       "    }\n",
       "\n",
       "    .dataframe thead th {\n",
       "        text-align: right;\n",
       "    }\n",
       "</style>\n",
       "<table border=\"1\" class=\"dataframe\">\n",
       "  <thead>\n",
       "    <tr style=\"text-align: right;\">\n",
       "      <th></th>\n",
       "      <th>Reviewer_Id</th>\n",
       "      <th>Product_Id</th>\n",
       "      <th>Name</th>\n",
       "      <th>Gender</th>\n",
       "      <th>Helpfulness</th>\n",
       "      <th>Review</th>\n",
       "      <th>Overall_Rating</th>\n",
       "      <th>Timestamp</th>\n",
       "      <th>Upvotes</th>\n",
       "      <th>Downvotes</th>\n",
       "    </tr>\n",
       "  </thead>\n",
       "  <tbody>\n",
       "    <tr>\n",
       "      <th>1</th>\n",
       "      <td>A00014061C2IZNE0YEILY</td>\n",
       "      <td>B00EKSG8JU</td>\n",
       "      <td>Randy BowenJillian Moore</td>\n",
       "      <td>mostly_male</td>\n",
       "      <td>0,0</td>\n",
       "      <td>I like the case however, it fits loosely and t...</td>\n",
       "      <td>4.0</td>\n",
       "      <td>1390348800</td>\n",
       "      <td>0</td>\n",
       "      <td>0</td>\n",
       "    </tr>\n",
       "    <tr>\n",
       "      <th>2</th>\n",
       "      <td>A0002730WOKVUCGRLYJU</td>\n",
       "      <td>B00I06MYMI</td>\n",
       "      <td>Bay Rodriguez</td>\n",
       "      <td>mostly_male</td>\n",
       "      <td>0,0</td>\n",
       "      <td>The ADAPTER snapped as soon as I put my phone ...</td>\n",
       "      <td>1.0</td>\n",
       "      <td>1405814400</td>\n",
       "      <td>0</td>\n",
       "      <td>0</td>\n",
       "    </tr>\n",
       "    <tr>\n",
       "      <th>3</th>\n",
       "      <td>A00028781NF0U7YEN9U19</td>\n",
       "      <td>B000CNKQ3G</td>\n",
       "      <td>Shawn Carr</td>\n",
       "      <td>mostly_male</td>\n",
       "      <td>0,0</td>\n",
       "      <td>The shirt is all I hoped for and more!! If you...</td>\n",
       "      <td>5.0</td>\n",
       "      <td>1400976000</td>\n",
       "      <td>0</td>\n",
       "      <td>0</td>\n",
       "    </tr>\n",
       "    <tr>\n",
       "      <th>4</th>\n",
       "      <td>A00028781NF0U7YEN9U19</td>\n",
       "      <td>B00B4HQ6Z6</td>\n",
       "      <td>Shawn Carr</td>\n",
       "      <td>mostly_male</td>\n",
       "      <td>0,0</td>\n",
       "      <td>Birthday gift for a friend and she loves it!!</td>\n",
       "      <td>5.0</td>\n",
       "      <td>1405814400</td>\n",
       "      <td>0</td>\n",
       "      <td>0</td>\n",
       "    </tr>\n",
       "    <tr>\n",
       "      <th>5</th>\n",
       "      <td>A00028781NF0U7YEN9U19</td>\n",
       "      <td>B00CBKJN64</td>\n",
       "      <td>Shawn Carr</td>\n",
       "      <td>mostly_male</td>\n",
       "      <td>0,0</td>\n",
       "      <td>I purchased this great Beatles T Shirt for my ...</td>\n",
       "      <td>5.0</td>\n",
       "      <td>1405814400</td>\n",
       "      <td>0</td>\n",
       "      <td>0</td>\n",
       "    </tr>\n",
       "  </tbody>\n",
       "</table>\n",
       "</div>"
      ],
      "text/plain": [
       "             Reviewer_Id  Product_Id                      Name       Gender  \\\n",
       "1  A00014061C2IZNE0YEILY  B00EKSG8JU  Randy BowenJillian Moore  mostly_male   \n",
       "2   A0002730WOKVUCGRLYJU  B00I06MYMI             Bay Rodriguez  mostly_male   \n",
       "3  A00028781NF0U7YEN9U19  B000CNKQ3G                Shawn Carr  mostly_male   \n",
       "4  A00028781NF0U7YEN9U19  B00B4HQ6Z6                Shawn Carr  mostly_male   \n",
       "5  A00028781NF0U7YEN9U19  B00CBKJN64                Shawn Carr  mostly_male   \n",
       "\n",
       "  Helpfulness                                             Review  \\\n",
       "1         0,0  I like the case however, it fits loosely and t...   \n",
       "2         0,0  The ADAPTER snapped as soon as I put my phone ...   \n",
       "3         0,0  The shirt is all I hoped for and more!! If you...   \n",
       "4         0,0      Birthday gift for a friend and she loves it!!   \n",
       "5         0,0  I purchased this great Beatles T Shirt for my ...   \n",
       "\n",
       "   Overall_Rating   Timestamp Upvotes Downvotes  \n",
       "1             4.0  1390348800       0         0  \n",
       "2             1.0  1405814400       0         0  \n",
       "3             5.0  1400976000       0         0  \n",
       "4             5.0  1405814400       0         0  \n",
       "5             5.0  1405814400       0         0  "
      ]
     },
     "execution_count": 7,
     "metadata": {},
     "output_type": "execute_result"
    }
   ],
   "source": [
    "amazon_df.head()"
   ]
  },
  {
   "cell_type": "code",
   "execution_count": 8,
   "metadata": {},
   "outputs": [
    {
     "data": {
      "text/plain": [
       "Reviewer_Id        object\n",
       "Product_Id         object\n",
       "Name               object\n",
       "Gender             object\n",
       "Helpfulness        object\n",
       "Review             object\n",
       "Overall_Rating    float64\n",
       "Timestamp           int64\n",
       "Upvotes            object\n",
       "Downvotes          object\n",
       "dtype: object"
      ]
     },
     "execution_count": 8,
     "metadata": {},
     "output_type": "execute_result"
    }
   ],
   "source": [
    "amazon_df.dtypes"
   ]
  },
  {
   "cell_type": "code",
   "execution_count": 9,
   "metadata": {},
   "outputs": [],
   "source": [
    "amazon_df[['Upvotes','Downvotes']] = amazon_df[['Upvotes','Downvotes']].apply(pd.to_numeric)"
   ]
  },
  {
   "cell_type": "code",
   "execution_count": 10,
   "metadata": {},
   "outputs": [
    {
     "data": {
      "text/plain": [
       "Reviewer_Id        object\n",
       "Product_Id         object\n",
       "Name               object\n",
       "Gender             object\n",
       "Helpfulness        object\n",
       "Review             object\n",
       "Overall_Rating    float64\n",
       "Timestamp           int64\n",
       "Upvotes             int64\n",
       "Downvotes           int64\n",
       "dtype: object"
      ]
     },
     "execution_count": 10,
     "metadata": {},
     "output_type": "execute_result"
    }
   ],
   "source": [
    "amazon_df.dtypes"
   ]
  },
  {
   "cell_type": "code",
   "execution_count": 11,
   "metadata": {},
   "outputs": [
    {
     "data": {
      "text/plain": [
       "3062167"
      ]
     },
     "execution_count": 11,
     "metadata": {},
     "output_type": "execute_result"
    }
   ],
   "source": [
    "total_upvotes_m = amazon_df['Upvotes'].sum()\n",
    "total_upvotes_m"
   ]
  },
  {
   "cell_type": "code",
   "execution_count": 12,
   "metadata": {},
   "outputs": [
    {
     "data": {
      "text/plain": [
       "4159254"
      ]
     },
     "execution_count": 12,
     "metadata": {},
     "output_type": "execute_result"
    }
   ],
   "source": [
    "total_downvotes_m = amazon_df['Downvotes'].sum()\n",
    "total_downvotes_m"
   ]
  },
  {
   "cell_type": "markdown",
   "metadata": {},
   "source": [
    "Female Reviewers"
   ]
  },
  {
   "cell_type": "code",
   "execution_count": 15,
   "metadata": {},
   "outputs": [],
   "source": [
    "#read csv\n",
    "amazon_df_f = pd.read_csv('/media/backup/Data/Amazon/amazon_mostly_female.csv', sep='|',encoding='utf8',quoting=csv.QUOTE_NONE, dtype={'Overall_Rating':float, 'Timestamp': int})"
   ]
  },
  {
   "cell_type": "code",
   "execution_count": 16,
   "metadata": {},
   "outputs": [],
   "source": [
    "#arranging row index\n",
    "amazon_df_f.index = amazon_df_f.index+1"
   ]
  },
  {
   "cell_type": "code",
   "execution_count": 17,
   "metadata": {},
   "outputs": [
    {
     "data": {
      "text/html": [
       "<div>\n",
       "<style scoped>\n",
       "    .dataframe tbody tr th:only-of-type {\n",
       "        vertical-align: middle;\n",
       "    }\n",
       "\n",
       "    .dataframe tbody tr th {\n",
       "        vertical-align: top;\n",
       "    }\n",
       "\n",
       "    .dataframe thead th {\n",
       "        text-align: right;\n",
       "    }\n",
       "</style>\n",
       "<table border=\"1\" class=\"dataframe\">\n",
       "  <thead>\n",
       "    <tr style=\"text-align: right;\">\n",
       "      <th></th>\n",
       "      <th>Reviewer_Id</th>\n",
       "      <th>Product_Id</th>\n",
       "      <th>Name</th>\n",
       "      <th>Gender</th>\n",
       "      <th>Helpfulness</th>\n",
       "      <th>Review</th>\n",
       "      <th>Overall_Rating</th>\n",
       "      <th>Timestamp</th>\n",
       "    </tr>\n",
       "  </thead>\n",
       "  <tbody>\n",
       "    <tr>\n",
       "      <th>1</th>\n",
       "      <td>A00003322NZ9C82Y46DFN</td>\n",
       "      <td>0786903945</td>\n",
       "      <td>Kyle Downey</td>\n",
       "      <td>mostly_female</td>\n",
       "      <td>0,0</td>\n",
       "      <td>The condition of the book was exactly as descr...</td>\n",
       "      <td>5.0</td>\n",
       "      <td>1403740800</td>\n",
       "    </tr>\n",
       "    <tr>\n",
       "      <th>2</th>\n",
       "      <td>A0000488123JA1KQJTEM8</td>\n",
       "      <td>B00EG0C20G</td>\n",
       "      <td>Trinity Cross</td>\n",
       "      <td>mostly_female</td>\n",
       "      <td>1,1</td>\n",
       "      <td>Keeps my phone safe and sound when I drop it! ...</td>\n",
       "      <td>5.0</td>\n",
       "      <td>1395619200</td>\n",
       "    </tr>\n",
       "    <tr>\n",
       "      <th>3</th>\n",
       "      <td>A0000618JRL8NVY0J0AN</td>\n",
       "      <td>B00E90VMKY</td>\n",
       "      <td>Carol</td>\n",
       "      <td>mostly_female</td>\n",
       "      <td>0,0</td>\n",
       "      <td>Exactly as advertised, good quality, fast deli...</td>\n",
       "      <td>5.0</td>\n",
       "      <td>1387324800</td>\n",
       "    </tr>\n",
       "    <tr>\n",
       "      <th>4</th>\n",
       "      <td>A00025741CVPCXCF3NHMR</td>\n",
       "      <td>B00EZW9UXW</td>\n",
       "      <td>Val Hampton</td>\n",
       "      <td>mostly_female</td>\n",
       "      <td>0,0</td>\n",
       "      <td>Much easier than dealing with Verizon directly...</td>\n",
       "      <td>5.0</td>\n",
       "      <td>1393200000</td>\n",
       "    </tr>\n",
       "    <tr>\n",
       "      <th>5</th>\n",
       "      <td>A00032403IMUSNRLR3XK7</td>\n",
       "      <td>B009FZFONO</td>\n",
       "      <td>Mary Sparks</td>\n",
       "      <td>mostly_female</td>\n",
       "      <td>0,0</td>\n",
       "      <td>I am addicted to this show. If not for amazon ...</td>\n",
       "      <td>5.0</td>\n",
       "      <td>1355875200</td>\n",
       "    </tr>\n",
       "  </tbody>\n",
       "</table>\n",
       "</div>"
      ],
      "text/plain": [
       "             Reviewer_Id  Product_Id           Name         Gender  \\\n",
       "1  A00003322NZ9C82Y46DFN  0786903945    Kyle Downey  mostly_female   \n",
       "2  A0000488123JA1KQJTEM8  B00EG0C20G  Trinity Cross  mostly_female   \n",
       "3   A0000618JRL8NVY0J0AN  B00E90VMKY          Carol  mostly_female   \n",
       "4  A00025741CVPCXCF3NHMR  B00EZW9UXW    Val Hampton  mostly_female   \n",
       "5  A00032403IMUSNRLR3XK7  B009FZFONO    Mary Sparks  mostly_female   \n",
       "\n",
       "  Helpfulness                                             Review  \\\n",
       "1         0,0  The condition of the book was exactly as descr...   \n",
       "2         1,1  Keeps my phone safe and sound when I drop it! ...   \n",
       "3         0,0  Exactly as advertised, good quality, fast deli...   \n",
       "4         0,0  Much easier than dealing with Verizon directly...   \n",
       "5         0,0  I am addicted to this show. If not for amazon ...   \n",
       "\n",
       "   Overall_Rating   Timestamp  \n",
       "1             5.0  1403740800  \n",
       "2             5.0  1395619200  \n",
       "3             5.0  1387324800  \n",
       "4             5.0  1393200000  \n",
       "5             5.0  1355875200  "
      ]
     },
     "execution_count": 17,
     "metadata": {},
     "output_type": "execute_result"
    }
   ],
   "source": [
    "amazon_df_f.head()"
   ]
  },
  {
   "cell_type": "code",
   "execution_count": 18,
   "metadata": {},
   "outputs": [],
   "source": [
    "#splitting helpfulness to upvotes and downvotes\n",
    "amazon_df_f['Upvotes'],amazon_df_f['Downvotes']= amazon_df_f['Helpfulness'].str.split(',',1).str"
   ]
  },
  {
   "cell_type": "code",
   "execution_count": 19,
   "metadata": {},
   "outputs": [
    {
     "data": {
      "text/html": [
       "<div>\n",
       "<style scoped>\n",
       "    .dataframe tbody tr th:only-of-type {\n",
       "        vertical-align: middle;\n",
       "    }\n",
       "\n",
       "    .dataframe tbody tr th {\n",
       "        vertical-align: top;\n",
       "    }\n",
       "\n",
       "    .dataframe thead th {\n",
       "        text-align: right;\n",
       "    }\n",
       "</style>\n",
       "<table border=\"1\" class=\"dataframe\">\n",
       "  <thead>\n",
       "    <tr style=\"text-align: right;\">\n",
       "      <th></th>\n",
       "      <th>Reviewer_Id</th>\n",
       "      <th>Product_Id</th>\n",
       "      <th>Name</th>\n",
       "      <th>Gender</th>\n",
       "      <th>Helpfulness</th>\n",
       "      <th>Review</th>\n",
       "      <th>Overall_Rating</th>\n",
       "      <th>Timestamp</th>\n",
       "      <th>Upvotes</th>\n",
       "      <th>Downvotes</th>\n",
       "    </tr>\n",
       "  </thead>\n",
       "  <tbody>\n",
       "    <tr>\n",
       "      <th>1</th>\n",
       "      <td>A00003322NZ9C82Y46DFN</td>\n",
       "      <td>0786903945</td>\n",
       "      <td>Kyle Downey</td>\n",
       "      <td>mostly_female</td>\n",
       "      <td>0,0</td>\n",
       "      <td>The condition of the book was exactly as descr...</td>\n",
       "      <td>5.0</td>\n",
       "      <td>1403740800</td>\n",
       "      <td>0</td>\n",
       "      <td>0</td>\n",
       "    </tr>\n",
       "    <tr>\n",
       "      <th>2</th>\n",
       "      <td>A0000488123JA1KQJTEM8</td>\n",
       "      <td>B00EG0C20G</td>\n",
       "      <td>Trinity Cross</td>\n",
       "      <td>mostly_female</td>\n",
       "      <td>1,1</td>\n",
       "      <td>Keeps my phone safe and sound when I drop it! ...</td>\n",
       "      <td>5.0</td>\n",
       "      <td>1395619200</td>\n",
       "      <td>1</td>\n",
       "      <td>1</td>\n",
       "    </tr>\n",
       "    <tr>\n",
       "      <th>3</th>\n",
       "      <td>A0000618JRL8NVY0J0AN</td>\n",
       "      <td>B00E90VMKY</td>\n",
       "      <td>Carol</td>\n",
       "      <td>mostly_female</td>\n",
       "      <td>0,0</td>\n",
       "      <td>Exactly as advertised, good quality, fast deli...</td>\n",
       "      <td>5.0</td>\n",
       "      <td>1387324800</td>\n",
       "      <td>0</td>\n",
       "      <td>0</td>\n",
       "    </tr>\n",
       "    <tr>\n",
       "      <th>4</th>\n",
       "      <td>A00025741CVPCXCF3NHMR</td>\n",
       "      <td>B00EZW9UXW</td>\n",
       "      <td>Val Hampton</td>\n",
       "      <td>mostly_female</td>\n",
       "      <td>0,0</td>\n",
       "      <td>Much easier than dealing with Verizon directly...</td>\n",
       "      <td>5.0</td>\n",
       "      <td>1393200000</td>\n",
       "      <td>0</td>\n",
       "      <td>0</td>\n",
       "    </tr>\n",
       "    <tr>\n",
       "      <th>5</th>\n",
       "      <td>A00032403IMUSNRLR3XK7</td>\n",
       "      <td>B009FZFONO</td>\n",
       "      <td>Mary Sparks</td>\n",
       "      <td>mostly_female</td>\n",
       "      <td>0,0</td>\n",
       "      <td>I am addicted to this show. If not for amazon ...</td>\n",
       "      <td>5.0</td>\n",
       "      <td>1355875200</td>\n",
       "      <td>0</td>\n",
       "      <td>0</td>\n",
       "    </tr>\n",
       "  </tbody>\n",
       "</table>\n",
       "</div>"
      ],
      "text/plain": [
       "             Reviewer_Id  Product_Id           Name         Gender  \\\n",
       "1  A00003322NZ9C82Y46DFN  0786903945    Kyle Downey  mostly_female   \n",
       "2  A0000488123JA1KQJTEM8  B00EG0C20G  Trinity Cross  mostly_female   \n",
       "3   A0000618JRL8NVY0J0AN  B00E90VMKY          Carol  mostly_female   \n",
       "4  A00025741CVPCXCF3NHMR  B00EZW9UXW    Val Hampton  mostly_female   \n",
       "5  A00032403IMUSNRLR3XK7  B009FZFONO    Mary Sparks  mostly_female   \n",
       "\n",
       "  Helpfulness                                             Review  \\\n",
       "1         0,0  The condition of the book was exactly as descr...   \n",
       "2         1,1  Keeps my phone safe and sound when I drop it! ...   \n",
       "3         0,0  Exactly as advertised, good quality, fast deli...   \n",
       "4         0,0  Much easier than dealing with Verizon directly...   \n",
       "5         0,0  I am addicted to this show. If not for amazon ...   \n",
       "\n",
       "   Overall_Rating   Timestamp Upvotes Downvotes  \n",
       "1             5.0  1403740800       0         0  \n",
       "2             5.0  1395619200       1         1  \n",
       "3             5.0  1387324800       0         0  \n",
       "4             5.0  1393200000       0         0  \n",
       "5             5.0  1355875200       0         0  "
      ]
     },
     "execution_count": 19,
     "metadata": {},
     "output_type": "execute_result"
    }
   ],
   "source": [
    "amazon_df_f.head()"
   ]
  },
  {
   "cell_type": "code",
   "execution_count": 20,
   "metadata": {},
   "outputs": [],
   "source": [
    "amazon_df_f[['Upvotes','Downvotes']] = amazon_df_f[['Upvotes','Downvotes']].apply(pd.to_numeric)"
   ]
  },
  {
   "cell_type": "code",
   "execution_count": 21,
   "metadata": {},
   "outputs": [
    {
     "data": {
      "text/plain": [
       "3821979"
      ]
     },
     "execution_count": 21,
     "metadata": {},
     "output_type": "execute_result"
    }
   ],
   "source": [
    "total_upvotes_f = amazon_df_f['Upvotes'].sum()\n",
    "total_upvotes_f"
   ]
  },
  {
   "cell_type": "code",
   "execution_count": 22,
   "metadata": {},
   "outputs": [
    {
     "data": {
      "text/plain": [
       "5059789"
      ]
     },
     "execution_count": 22,
     "metadata": {},
     "output_type": "execute_result"
    }
   ],
   "source": [
    "total_downvotes_f = amazon_df_f['Downvotes'].sum()\n",
    "total_downvotes_f"
   ]
  },
  {
   "cell_type": "code",
   "execution_count": 24,
   "metadata": {},
   "outputs": [
    {
     "data": {
      "image/png": "[encoded data removed]",
      "text/plain": [
       "<Figure size 432x288 with 1 Axes>"
      ]
     },
     "metadata": {},
     "output_type": "display_data"
    }
   ],
   "source": [
    "label = ['Male','Female']\n",
    "upvotes = [total_upvotes_m,total_upvotes_f]\n",
    "index = np.arange(len(label))\n",
    "plt.bar(index,upvotes)\n",
    "plt.xlabel('Gender', fontsize=5)\n",
    "plt.ylabel('Upvotes', fontsize=5)\n",
    "plt.xticks(index, label, fontsize=5, rotation=30)\n",
    "plt.title('Comparison of Upvotes')\n",
    "plt.show()"
   ]
  },
  {
   "cell_type": "code",
   "execution_count": 25,
   "metadata": {},
   "outputs": [
    {
     "data": {
      "image/png": "[encoded data removed]",
      "text/plain": [
       "<Figure size 432x288 with 1 Axes>"
      ]
     },
     "metadata": {},
     "output_type": "display_data"
    }
   ],
   "source": [
    "label = ['Male','Female']\n",
    "downvotes = [total_downvotes_m,total_downvotes_f]\n",
    "index = np.arange(len(label))\n",
    "plt.bar(index,downvotes)\n",
    "plt.xlabel('Gender', fontsize=5)\n",
    "plt.ylabel('Downvotes', fontsize=5)\n",
    "plt.xticks(index, label, fontsize=5, rotation=30)\n",
    "plt.title('Comparison of Downvotes')\n",
    "plt.show()"
   ]
  },
  {
   "cell_type": "code",
   "execution_count": 26,
   "metadata": {},
   "outputs": [],
   "source": [
    "male_reviews = len(amazon_df.index)\n",
    "female_reviews = len(amazon_df_f.index)"
   ]
  },
  {
   "cell_type": "code",
   "execution_count": 27,
   "metadata": {},
   "outputs": [
    {
     "name": "stdout",
     "output_type": "stream",
     "text": [
      "Average upvotes for male: 2.1 \n",
      "Average upvotes for female: 1.72 \n"
     ]
    }
   ],
   "source": [
    "#average upvotes for male and female\n",
    "avg_upvotes_m = round((total_upvotes_m/male_reviews),2)\n",
    "print(\"Average upvotes for male: {} \" .format(avg_upvotes_m))\n",
    "\n",
    "avg_upvotes_f = round((total_upvotes_f/female_reviews),2)\n",
    "print(\"Average upvotes for female: {} \" .format(avg_upvotes_f))"
   ]
  },
  {
   "cell_type": "code",
   "execution_count": 28,
   "metadata": {},
   "outputs": [
    {
     "name": "stdout",
     "output_type": "stream",
     "text": [
      "Average downvotes for male: 2.86 \n",
      "Average downvotes for female: 2.27 \n"
     ]
    }
   ],
   "source": [
    "#average downvotes for male and female\n",
    "avg_downvotes_m = round((total_downvotes_m/male_reviews),2)\n",
    "print(\"Average downvotes for male: {} \" .format(avg_downvotes_m))\n",
    "\n",
    "avg_downvotes_f = round((total_downvotes_f/female_reviews),2)\n",
    "print(\"Average downvotes for female: {} \" .format(avg_downvotes_f))"
   ]
  },
  {
   "cell_type": "code",
   "execution_count": 29,
   "metadata": {},
   "outputs": [
    {
     "data": {
      "image/png": "[encoded data removed]",
      "text/plain": [
       "<Figure size 432x288 with 1 Axes>"
      ]
     },
     "metadata": {},
     "output_type": "display_data"
    }
   ],
   "source": [
    "label = ['Male','Female']\n",
    "avg_upvotes = [avg_upvotes_m,avg_upvotes_f]\n",
    "index = np.arange(len(label))\n",
    "plt.bar(index,avg_upvotes)\n",
    "plt.xlabel('Gender', fontsize=5)\n",
    "plt.ylabel('Average Upvotes', fontsize=5)\n",
    "plt.xticks(index, label, fontsize=5, rotation=30)\n",
    "plt.title('Comparison of Average Upvotes Received')\n",
    "plt.show()"
   ]
  },
  {
   "cell_type": "code",
   "execution_count": 30,
   "metadata": {},
   "outputs": [
    {
     "data": {
      "image/png": "[encoded data removed]",
      "text/plain": [
       "<Figure size 432x288 with 1 Axes>"
      ]
     },
     "metadata": {},
     "output_type": "display_data"
    }
   ],
   "source": [
    "label = ['Male','Female']\n",
    "avg_downvotes = [avg_downvotes_m,avg_downvotes_f]\n",
    "index = np.arange(len(label))\n",
    "plt.bar(index,avg_downvotes)\n",
    "plt.xlabel('Gender', fontsize=5)\n",
    "plt.ylabel('Average Downvotes', fontsize=5)\n",
    "plt.xticks(index, label, fontsize=5, rotation=30)\n",
    "plt.title('Comparison of Average Downvotes Received')\n",
    "plt.show()"
   ]
  },
  {
   "cell_type": "code",
   "execution_count": 31,
   "metadata": {},
   "outputs": [],
   "source": [
    "#distribution of number of upvotes\n",
    "freq_upvotes_m = dict(amazon_df['Upvotes'].value_counts())\n",
    "freq_upvotes_f = dict(amazon_df_f['Upvotes'].value_counts())\n",
    "#max(freq_upvotes_m, key=int)"
   ]
  },
  {
   "cell_type": "code",
   "execution_count": 33,
   "metadata": {},
   "outputs": [
    {
     "data": {
      "image/png": "[encoded data removed]",
      "text/plain": [
       "<Figure size 432x288 with 1 Axes>"
      ]
     },
     "metadata": {},
     "output_type": "display_data"
    },
    {
     "data": {
      "text/plain": [
       "<Figure size 576x576 with 0 Axes>"
      ]
     },
     "metadata": {},
     "output_type": "display_data"
    }
   ],
   "source": [
    "lists = sorted(freq_upvotes_m.items()) # sorted by key, return a list of tuples\n",
    "\n",
    "x, y = zip(*lists) # unpack a list of pairs into two tuples\n",
    "\n",
    "plt.xticks(np.arange(min(x), max(x)+1,1000))\n",
    "plt.plot(x, y)\n",
    "plt.xscale('log')\n",
    "plt.yscale('log')\n",
    "plt.xlabel('Upvotes', fontsize=5)\n",
    "plt.ylabel('Frequency', fontsize=5)\n",
    "plt.figure(figsize=(8,8))\n",
    "plt.show()"
   ]
  },
  {
   "cell_type": "code",
   "execution_count": 34,
   "metadata": {},
   "outputs": [
    {
     "data": {
      "image/png": "[encoded data removed]",
      "text/plain": [
       "<Figure size 432x288 with 1 Axes>"
      ]
     },
     "metadata": {},
     "output_type": "display_data"
    },
    {
     "data": {
      "text/plain": [
       "<Figure size 576x576 with 0 Axes>"
      ]
     },
     "metadata": {},
     "output_type": "display_data"
    }
   ],
   "source": [
    "lists = sorted(freq_upvotes_f.items()) # sorted by key, return a list of tuples\n",
    "\n",
    "x, y = zip(*lists) # unpack a list of pairs into two tuples\n",
    "\n",
    "plt.xticks(np.arange(min(x), max(x)+1,1000))\n",
    "plt.plot(x, y)\n",
    "plt.xscale('log')\n",
    "plt.yscale('log')\n",
    "plt.xlabel('Upvotes', fontsize=5)\n",
    "plt.ylabel('Frequency', fontsize=5)\n",
    "plt.figure(figsize=(8,8))\n",
    "plt.show()"
   ]
  }
 ],
 "metadata": {
  "kernelspec": {
   "display_name": "Python 3",
   "language": "python",
   "name": "python3"
  },
  "language_info": {
   "codemirror_mode": {
    "name": "ipython",
    "version": 3
   },
   "file_extension": ".py",
   "mimetype": "text/x-python",
   "name": "python",
   "nbconvert_exporter": "python",
   "pygments_lexer": "ipython3",
   "version": "3.6.5"
  }
 },
 "nbformat": 4,
 "nbformat_minor": 2
}
