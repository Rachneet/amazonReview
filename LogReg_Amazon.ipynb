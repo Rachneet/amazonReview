{
 "cells": [
  {
   "cell_type": "code",
   "execution_count": 51,
   "metadata": {},
   "outputs": [
    {
     "name": "stdout",
     "output_type": "stream",
     "text": [
      "Populating the interactive namespace from numpy and matplotlib\n"
     ]
    }
   ],
   "source": [
    "%pylab inline\n",
    "import pandas as pd\n",
    "import csv\n",
    "import numpy as np\n",
    "import re\n",
    "import nltk\n",
    "import matplotlib.pyplot as plt\n",
    "from nltk.corpus import stopwords\n",
    "from nltk.stem import SnowballStemmer\n",
    "from sklearn.feature_extraction.text import TfidfVectorizer\n",
    "from sklearn.svm import LinearSVC\n",
    "from sklearn.linear_model import LogisticRegression\n",
    "from sklearn.preprocessing import StandardScaler\n",
    "from sklearn.pipeline import Pipeline, FeatureUnion\n",
    "from sklearn.model_selection import train_test_split\n",
    "from sklearn.feature_selection import SelectKBest, chi2\n",
    "import string"
   ]
  },
  {
   "cell_type": "code",
   "execution_count": 52,
   "metadata": {},
   "outputs": [],
   "source": [
    "#read csv\n",
    "amazon_df = pd.read_csv('/media/backup/Data/Amazon/amazon_male.csv', sep='|',encoding='utf8',quoting=csv.QUOTE_NONE, dtype={'Overall_Rating':float, 'Timestamp': int})"
   ]
  },
  {
   "cell_type": "code",
   "execution_count": 53,
   "metadata": {},
   "outputs": [],
   "source": [
    "#arranging row index\n",
    "amazon_df.index = amazon_df.index+1"
   ]
  },
  {
   "cell_type": "code",
   "execution_count": 54,
   "metadata": {},
   "outputs": [
    {
     "data": {
      "text/html": [
       "<div>\n",
       "<style scoped>\n",
       "    .dataframe tbody tr th:only-of-type {\n",
       "        vertical-align: middle;\n",
       "    }\n",
       "\n",
       "    .dataframe tbody tr th {\n",
       "        vertical-align: top;\n",
       "    }\n",
       "\n",
       "    .dataframe thead th {\n",
       "        text-align: right;\n",
       "    }\n",
       "</style>\n",
       "<table border=\"1\" class=\"dataframe\">\n",
       "  <thead>\n",
       "    <tr style=\"text-align: right;\">\n",
       "      <th></th>\n",
       "      <th>Reviewer_Id</th>\n",
       "      <th>Product_Id</th>\n",
       "      <th>Name</th>\n",
       "      <th>Gender</th>\n",
       "      <th>Helpfulness</th>\n",
       "      <th>Review</th>\n",
       "      <th>Overall_Rating</th>\n",
       "      <th>Timestamp</th>\n",
       "    </tr>\n",
       "  </thead>\n",
       "  <tbody>\n",
       "    <tr>\n",
       "      <th>1</th>\n",
       "      <td>A00000262KYZUE4J55XGL</td>\n",
       "      <td>B003UYU16G</td>\n",
       "      <td>Steven N Elich</td>\n",
       "      <td>male</td>\n",
       "      <td>0,0</td>\n",
       "      <td>It is and does exactly what the description sa...</td>\n",
       "      <td>5.0</td>\n",
       "      <td>1353456000</td>\n",
       "    </tr>\n",
       "    <tr>\n",
       "      <th>2</th>\n",
       "      <td>A00000922W28P2OCH6JSE</td>\n",
       "      <td>B000VEBG9Y</td>\n",
       "      <td>Gabriel Merrill</td>\n",
       "      <td>male</td>\n",
       "      <td>0,0</td>\n",
       "      <td>Very mobile product. Efficient. Easy to use; h...</td>\n",
       "      <td>3.0</td>\n",
       "      <td>1395619200</td>\n",
       "    </tr>\n",
       "    <tr>\n",
       "      <th>3</th>\n",
       "      <td>A00000922W28P2OCH6JSE</td>\n",
       "      <td>B001EJMS6K</td>\n",
       "      <td>Gabriel Merrill</td>\n",
       "      <td>male</td>\n",
       "      <td>0,0</td>\n",
       "      <td>Easy to use a mobile. If you're taller than 4f...</td>\n",
       "      <td>4.0</td>\n",
       "      <td>1395619200</td>\n",
       "    </tr>\n",
       "    <tr>\n",
       "      <th>4</th>\n",
       "      <td>A00000922W28P2OCH6JSE</td>\n",
       "      <td>B003XJCNVO</td>\n",
       "      <td>Gabriel Merrill</td>\n",
       "      <td>male</td>\n",
       "      <td>0,0</td>\n",
       "      <td>Love this feeder. Heavy duty &amp; capacity. Best ...</td>\n",
       "      <td>4.0</td>\n",
       "      <td>1395619200</td>\n",
       "    </tr>\n",
       "    <tr>\n",
       "      <th>5</th>\n",
       "      <td>A00000922W28P2OCH6JSE</td>\n",
       "      <td>B00G3KN9LI</td>\n",
       "      <td>Gabriel Merrill</td>\n",
       "      <td>male</td>\n",
       "      <td>0,0</td>\n",
       "      <td>Solid, stable mount. Holds iPhone with phone p...</td>\n",
       "      <td>4.0</td>\n",
       "      <td>1396051200</td>\n",
       "    </tr>\n",
       "  </tbody>\n",
       "</table>\n",
       "</div>"
      ],
      "text/plain": [
       "             Reviewer_Id  Product_Id             Name Gender Helpfulness  \\\n",
       "1  A00000262KYZUE4J55XGL  B003UYU16G   Steven N Elich   male         0,0   \n",
       "2  A00000922W28P2OCH6JSE  B000VEBG9Y  Gabriel Merrill   male         0,0   \n",
       "3  A00000922W28P2OCH6JSE  B001EJMS6K  Gabriel Merrill   male         0,0   \n",
       "4  A00000922W28P2OCH6JSE  B003XJCNVO  Gabriel Merrill   male         0,0   \n",
       "5  A00000922W28P2OCH6JSE  B00G3KN9LI  Gabriel Merrill   male         0,0   \n",
       "\n",
       "                                              Review  Overall_Rating  \\\n",
       "1  It is and does exactly what the description sa...             5.0   \n",
       "2  Very mobile product. Efficient. Easy to use; h...             3.0   \n",
       "3  Easy to use a mobile. If you're taller than 4f...             4.0   \n",
       "4  Love this feeder. Heavy duty & capacity. Best ...             4.0   \n",
       "5  Solid, stable mount. Holds iPhone with phone p...             4.0   \n",
       "\n",
       "    Timestamp  \n",
       "1  1353456000  \n",
       "2  1395619200  \n",
       "3  1395619200  \n",
       "4  1395619200  \n",
       "5  1396051200  "
      ]
     },
     "execution_count": 54,
     "metadata": {},
     "output_type": "execute_result"
    }
   ],
   "source": [
    "amazon_df.head()"
   ]
  },
  {
   "cell_type": "code",
   "execution_count": 55,
   "metadata": {},
   "outputs": [
    {
     "data": {
      "text/plain": [
       "(16950602, 8)"
      ]
     },
     "execution_count": 55,
     "metadata": {},
     "output_type": "execute_result"
    }
   ],
   "source": [
    "#amazon_df.Review.to_csv(Reviews.csv)\n",
    "amazon_df.shape"
   ]
  },
  {
   "cell_type": "code",
   "execution_count": 56,
   "metadata": {},
   "outputs": [],
   "source": [
    "amazon_df.drop(['Reviewer_Id','Product_Id', 'Name', 'Helpfulness', 'Overall_Rating', 'Timestamp'], axis=1, inplace=True)    "
   ]
  },
  {
   "cell_type": "code",
   "execution_count": 57,
   "metadata": {},
   "outputs": [],
   "source": [
    "amazon_df = amazon_df.iloc[:50000]"
   ]
  },
  {
   "cell_type": "code",
   "execution_count": 58,
   "metadata": {},
   "outputs": [
    {
     "data": {
      "text/html": [
       "<div>\n",
       "<style scoped>\n",
       "    .dataframe tbody tr th:only-of-type {\n",
       "        vertical-align: middle;\n",
       "    }\n",
       "\n",
       "    .dataframe tbody tr th {\n",
       "        vertical-align: top;\n",
       "    }\n",
       "\n",
       "    .dataframe thead th {\n",
       "        text-align: right;\n",
       "    }\n",
       "</style>\n",
       "<table border=\"1\" class=\"dataframe\">\n",
       "  <thead>\n",
       "    <tr style=\"text-align: right;\">\n",
       "      <th></th>\n",
       "      <th>Gender</th>\n",
       "      <th>Review</th>\n",
       "    </tr>\n",
       "  </thead>\n",
       "  <tbody>\n",
       "    <tr>\n",
       "      <th>1</th>\n",
       "      <td>male</td>\n",
       "      <td>It is and does exactly what the description sa...</td>\n",
       "    </tr>\n",
       "    <tr>\n",
       "      <th>2</th>\n",
       "      <td>male</td>\n",
       "      <td>Very mobile product. Efficient. Easy to use; h...</td>\n",
       "    </tr>\n",
       "    <tr>\n",
       "      <th>3</th>\n",
       "      <td>male</td>\n",
       "      <td>Easy to use a mobile. If you're taller than 4f...</td>\n",
       "    </tr>\n",
       "    <tr>\n",
       "      <th>4</th>\n",
       "      <td>male</td>\n",
       "      <td>Love this feeder. Heavy duty &amp; capacity. Best ...</td>\n",
       "    </tr>\n",
       "    <tr>\n",
       "      <th>5</th>\n",
       "      <td>male</td>\n",
       "      <td>Solid, stable mount. Holds iPhone with phone p...</td>\n",
       "    </tr>\n",
       "  </tbody>\n",
       "</table>\n",
       "</div>"
      ],
      "text/plain": [
       "  Gender                                             Review\n",
       "1   male  It is and does exactly what the description sa...\n",
       "2   male  Very mobile product. Efficient. Easy to use; h...\n",
       "3   male  Easy to use a mobile. If you're taller than 4f...\n",
       "4   male  Love this feeder. Heavy duty & capacity. Best ...\n",
       "5   male  Solid, stable mount. Holds iPhone with phone p..."
      ]
     },
     "execution_count": 58,
     "metadata": {},
     "output_type": "execute_result"
    }
   ],
   "source": [
    "amazon_df.head()"
   ]
  },
  {
   "cell_type": "markdown",
   "metadata": {},
   "source": [
    "# Female Data"
   ]
  },
  {
   "cell_type": "code",
   "execution_count": 59,
   "metadata": {},
   "outputs": [],
   "source": [
    "amazon_df_f = pd.read_csv('/media/backup/Data/Amazon/amazon_female.csv', sep='|',encoding='utf8',quoting=csv.QUOTE_NONE, dtype={'Overall_Rating':float, 'Timestamp': int})"
   ]
  },
  {
   "cell_type": "code",
   "execution_count": 60,
   "metadata": {},
   "outputs": [],
   "source": [
    "#arranging row index\n",
    "amazon_df_f.index = amazon_df_f.index+1"
   ]
  },
  {
   "cell_type": "code",
   "execution_count": 61,
   "metadata": {},
   "outputs": [
    {
     "data": {
      "text/html": [
       "<div>\n",
       "<style scoped>\n",
       "    .dataframe tbody tr th:only-of-type {\n",
       "        vertical-align: middle;\n",
       "    }\n",
       "\n",
       "    .dataframe tbody tr th {\n",
       "        vertical-align: top;\n",
       "    }\n",
       "\n",
       "    .dataframe thead th {\n",
       "        text-align: right;\n",
       "    }\n",
       "</style>\n",
       "<table border=\"1\" class=\"dataframe\">\n",
       "  <thead>\n",
       "    <tr style=\"text-align: right;\">\n",
       "      <th></th>\n",
       "      <th>Reviewer_Id</th>\n",
       "      <th>Product_Id</th>\n",
       "      <th>Name</th>\n",
       "      <th>Gender</th>\n",
       "      <th>Helpfulness</th>\n",
       "      <th>Review</th>\n",
       "      <th>Overall_Rating</th>\n",
       "      <th>Timestamp</th>\n",
       "    </tr>\n",
       "  </thead>\n",
       "  <tbody>\n",
       "    <tr>\n",
       "      <th>1</th>\n",
       "      <td>A00001362Q1PGIX2FYSSH</td>\n",
       "      <td>B00125OS3C</td>\n",
       "      <td>Pamela Bellamy</td>\n",
       "      <td>female</td>\n",
       "      <td>0,0</td>\n",
       "      <td>Beautiful photos/film with wonderful music.  G...</td>\n",
       "      <td>5.0</td>\n",
       "      <td>1377907200</td>\n",
       "    </tr>\n",
       "    <tr>\n",
       "      <th>2</th>\n",
       "      <td>A00001362Q1PGIX2FYSSH</td>\n",
       "      <td>B002IGHX40</td>\n",
       "      <td>Pamela Bellamy</td>\n",
       "      <td>female</td>\n",
       "      <td>1,1</td>\n",
       "      <td>My idea of Colorado is &amp;#34;Mountains&amp;#34;.  C...</td>\n",
       "      <td>2.0</td>\n",
       "      <td>1377907200</td>\n",
       "    </tr>\n",
       "    <tr>\n",
       "      <th>3</th>\n",
       "      <td>A00003262KNLZOSMMMFVV</td>\n",
       "      <td>B002Y2U8MC</td>\n",
       "      <td>Harue Rojas</td>\n",
       "      <td>female</td>\n",
       "      <td>1,1</td>\n",
       "      <td>It is not a sticker, it is a Chritsmas story  ...</td>\n",
       "      <td>5.0</td>\n",
       "      <td>1361145600</td>\n",
       "    </tr>\n",
       "    <tr>\n",
       "      <th>4</th>\n",
       "      <td>A00003262KNLZOSMMMFVV</td>\n",
       "      <td>B004P598FY</td>\n",
       "      <td>Harue Rojas</td>\n",
       "      <td>female</td>\n",
       "      <td>1,1</td>\n",
       "      <td>LOve the size and the details, and its very co...</td>\n",
       "      <td>5.0</td>\n",
       "      <td>1361145600</td>\n",
       "    </tr>\n",
       "    <tr>\n",
       "      <th>5</th>\n",
       "      <td>A00003262KNLZOSMMMFVV</td>\n",
       "      <td>B005MU3UE6</td>\n",
       "      <td>Harue Rojas</td>\n",
       "      <td>female</td>\n",
       "      <td>1,1</td>\n",
       "      <td>Its very colorful and the image once  you  put...</td>\n",
       "      <td>5.0</td>\n",
       "      <td>1361145600</td>\n",
       "    </tr>\n",
       "  </tbody>\n",
       "</table>\n",
       "</div>"
      ],
      "text/plain": [
       "             Reviewer_Id  Product_Id            Name  Gender Helpfulness  \\\n",
       "1  A00001362Q1PGIX2FYSSH  B00125OS3C  Pamela Bellamy  female         0,0   \n",
       "2  A00001362Q1PGIX2FYSSH  B002IGHX40  Pamela Bellamy  female         1,1   \n",
       "3  A00003262KNLZOSMMMFVV  B002Y2U8MC     Harue Rojas  female         1,1   \n",
       "4  A00003262KNLZOSMMMFVV  B004P598FY     Harue Rojas  female         1,1   \n",
       "5  A00003262KNLZOSMMMFVV  B005MU3UE6     Harue Rojas  female         1,1   \n",
       "\n",
       "                                              Review  Overall_Rating  \\\n",
       "1  Beautiful photos/film with wonderful music.  G...             5.0   \n",
       "2  My idea of Colorado is &#34;Mountains&#34;.  C...             2.0   \n",
       "3  It is not a sticker, it is a Chritsmas story  ...             5.0   \n",
       "4  LOve the size and the details, and its very co...             5.0   \n",
       "5  Its very colorful and the image once  you  put...             5.0   \n",
       "\n",
       "    Timestamp  \n",
       "1  1377907200  \n",
       "2  1377907200  \n",
       "3  1361145600  \n",
       "4  1361145600  \n",
       "5  1361145600  "
      ]
     },
     "execution_count": 61,
     "metadata": {},
     "output_type": "execute_result"
    }
   ],
   "source": [
    "amazon_df_f.head()"
   ]
  },
  {
   "cell_type": "code",
   "execution_count": 62,
   "metadata": {},
   "outputs": [],
   "source": [
    "amazon_df_f.drop(['Reviewer_Id','Product_Id', 'Name', 'Helpfulness', 'Overall_Rating', 'Timestamp'], axis=1, inplace=True)    "
   ]
  },
  {
   "cell_type": "code",
   "execution_count": 63,
   "metadata": {},
   "outputs": [],
   "source": [
    "amazon_df_f = amazon_df_f.iloc[:50000]"
   ]
  },
  {
   "cell_type": "code",
   "execution_count": 64,
   "metadata": {},
   "outputs": [
    {
     "data": {
      "text/plain": [
       "(50000, 2)"
      ]
     },
     "execution_count": 64,
     "metadata": {},
     "output_type": "execute_result"
    }
   ],
   "source": [
    "amazon_df_f.shape"
   ]
  },
  {
   "cell_type": "code",
   "execution_count": 65,
   "metadata": {},
   "outputs": [
    {
     "data": {
      "text/html": [
       "<div>\n",
       "<style scoped>\n",
       "    .dataframe tbody tr th:only-of-type {\n",
       "        vertical-align: middle;\n",
       "    }\n",
       "\n",
       "    .dataframe tbody tr th {\n",
       "        vertical-align: top;\n",
       "    }\n",
       "\n",
       "    .dataframe thead th {\n",
       "        text-align: right;\n",
       "    }\n",
       "</style>\n",
       "<table border=\"1\" class=\"dataframe\">\n",
       "  <thead>\n",
       "    <tr style=\"text-align: right;\">\n",
       "      <th></th>\n",
       "      <th>Gender</th>\n",
       "      <th>Review</th>\n",
       "    </tr>\n",
       "  </thead>\n",
       "  <tbody>\n",
       "    <tr>\n",
       "      <th>1</th>\n",
       "      <td>female</td>\n",
       "      <td>Beautiful photos/film with wonderful music.  G...</td>\n",
       "    </tr>\n",
       "    <tr>\n",
       "      <th>2</th>\n",
       "      <td>female</td>\n",
       "      <td>My idea of Colorado is &amp;#34;Mountains&amp;#34;.  C...</td>\n",
       "    </tr>\n",
       "    <tr>\n",
       "      <th>3</th>\n",
       "      <td>female</td>\n",
       "      <td>It is not a sticker, it is a Chritsmas story  ...</td>\n",
       "    </tr>\n",
       "    <tr>\n",
       "      <th>4</th>\n",
       "      <td>female</td>\n",
       "      <td>LOve the size and the details, and its very co...</td>\n",
       "    </tr>\n",
       "    <tr>\n",
       "      <th>5</th>\n",
       "      <td>female</td>\n",
       "      <td>Its very colorful and the image once  you  put...</td>\n",
       "    </tr>\n",
       "  </tbody>\n",
       "</table>\n",
       "</div>"
      ],
      "text/plain": [
       "   Gender                                             Review\n",
       "1  female  Beautiful photos/film with wonderful music.  G...\n",
       "2  female  My idea of Colorado is &#34;Mountains&#34;.  C...\n",
       "3  female  It is not a sticker, it is a Chritsmas story  ...\n",
       "4  female  LOve the size and the details, and its very co...\n",
       "5  female  Its very colorful and the image once  you  put..."
      ]
     },
     "execution_count": 65,
     "metadata": {},
     "output_type": "execute_result"
    }
   ],
   "source": [
    "amazon_df_f.head()"
   ]
  },
  {
   "cell_type": "code",
   "execution_count": 66,
   "metadata": {},
   "outputs": [],
   "source": [
    "data = amazon_df.append(amazon_df_f, ignore_index= True)"
   ]
  },
  {
   "cell_type": "code",
   "execution_count": 67,
   "metadata": {},
   "outputs": [],
   "source": [
    "data.index = data.index + 1"
   ]
  },
  {
   "cell_type": "code",
   "execution_count": 68,
   "metadata": {},
   "outputs": [
    {
     "data": {
      "text/plain": [
       "(100000, 2)"
      ]
     },
     "execution_count": 68,
     "metadata": {},
     "output_type": "execute_result"
    }
   ],
   "source": [
    "data.shape"
   ]
  },
  {
   "cell_type": "code",
   "execution_count": 69,
   "metadata": {},
   "outputs": [],
   "source": [
    "data = data.sample(frac = 1).reset_index(drop=True)"
   ]
  },
  {
   "cell_type": "code",
   "execution_count": 70,
   "metadata": {},
   "outputs": [],
   "source": [
    "data.index = data.index +1"
   ]
  },
  {
   "cell_type": "code",
   "execution_count": 71,
   "metadata": {},
   "outputs": [
    {
     "data": {
      "text/html": [
       "<div>\n",
       "<style scoped>\n",
       "    .dataframe tbody tr th:only-of-type {\n",
       "        vertical-align: middle;\n",
       "    }\n",
       "\n",
       "    .dataframe tbody tr th {\n",
       "        vertical-align: top;\n",
       "    }\n",
       "\n",
       "    .dataframe thead th {\n",
       "        text-align: right;\n",
       "    }\n",
       "</style>\n",
       "<table border=\"1\" class=\"dataframe\">\n",
       "  <thead>\n",
       "    <tr style=\"text-align: right;\">\n",
       "      <th></th>\n",
       "      <th>Gender</th>\n",
       "      <th>Review</th>\n",
       "    </tr>\n",
       "  </thead>\n",
       "  <tbody>\n",
       "    <tr>\n",
       "      <th>1</th>\n",
       "      <td>male</td>\n",
       "      <td>Item was exactly as described.  Not thick wire...</td>\n",
       "    </tr>\n",
       "    <tr>\n",
       "      <th>2</th>\n",
       "      <td>female</td>\n",
       "      <td>This is perfect for me.  I don't have the stre...</td>\n",
       "    </tr>\n",
       "    <tr>\n",
       "      <th>3</th>\n",
       "      <td>male</td>\n",
       "      <td>I just just received my twelve cans of this st...</td>\n",
       "    </tr>\n",
       "    <tr>\n",
       "      <th>4</th>\n",
       "      <td>female</td>\n",
       "      <td>Excellent, in my opinion one of the best brand...</td>\n",
       "    </tr>\n",
       "    <tr>\n",
       "      <th>5</th>\n",
       "      <td>female</td>\n",
       "      <td>To believe I didn't want to read this book , s...</td>\n",
       "    </tr>\n",
       "  </tbody>\n",
       "</table>\n",
       "</div>"
      ],
      "text/plain": [
       "   Gender                                             Review\n",
       "1    male  Item was exactly as described.  Not thick wire...\n",
       "2  female  This is perfect for me.  I don't have the stre...\n",
       "3    male  I just just received my twelve cans of this st...\n",
       "4  female  Excellent, in my opinion one of the best brand...\n",
       "5  female  To believe I didn't want to read this book , s..."
      ]
     },
     "execution_count": 71,
     "metadata": {},
     "output_type": "execute_result"
    }
   ],
   "source": [
    "data.head()"
   ]
  },
  {
   "cell_type": "markdown",
   "metadata": {},
   "source": [
    "# Data Preprocessing"
   ]
  },
  {
   "cell_type": "code",
   "execution_count": 72,
   "metadata": {},
   "outputs": [],
   "source": [
    "#data preprocessing\n",
    "porter_stemmer = nltk.PorterStemmer()\n",
    "words = stopwords.words(\"english\")"
   ]
  },
  {
   "cell_type": "code",
   "execution_count": 73,
   "metadata": {},
   "outputs": [],
   "source": [
    "data['Review'] = data['Review'].apply(str)"
   ]
  },
  {
   "cell_type": "code",
   "execution_count": 74,
   "metadata": {},
   "outputs": [],
   "source": [
    "#remove punctuation for each word\n",
    "#maketrans() method returns a translation table that maps each character in the \n",
    "#intab string into the character at the same position in the outtab string\n",
    "table = str.maketrans('','', string.punctuation)"
   ]
  },
  {
   "cell_type": "code",
   "execution_count": 75,
   "metadata": {},
   "outputs": [],
   "source": [
    "#data cleaning and forming a new column\n",
    "#remove words that are not alphanumeric eg. remove s of what's \n",
    "\n",
    "data['Cleaned_Reviews'] = data['Review'].apply(lambda x: \" \".join([i.translate(table) for i in x.split() if i.isalpha() if i not in words]).lower())"
   ]
  },
  {
   "cell_type": "code",
   "execution_count": 76,
   "metadata": {},
   "outputs": [
    {
     "data": {
      "text/html": [
       "<div>\n",
       "<style scoped>\n",
       "    .dataframe tbody tr th:only-of-type {\n",
       "        vertical-align: middle;\n",
       "    }\n",
       "\n",
       "    .dataframe tbody tr th {\n",
       "        vertical-align: top;\n",
       "    }\n",
       "\n",
       "    .dataframe thead th {\n",
       "        text-align: right;\n",
       "    }\n",
       "</style>\n",
       "<table border=\"1\" class=\"dataframe\">\n",
       "  <thead>\n",
       "    <tr style=\"text-align: right;\">\n",
       "      <th></th>\n",
       "      <th>Gender</th>\n",
       "      <th>Review</th>\n",
       "      <th>Cleaned_Reviews</th>\n",
       "    </tr>\n",
       "  </thead>\n",
       "  <tbody>\n",
       "    <tr>\n",
       "      <th>1</th>\n",
       "      <td>male</td>\n",
       "      <td>Item was exactly as described.  Not thick wire...</td>\n",
       "      <td>item exactly not thick wire casing i knew i bo...</td>\n",
       "    </tr>\n",
       "    <tr>\n",
       "      <th>2</th>\n",
       "      <td>female</td>\n",
       "      <td>This is perfect for me.  I don't have the stre...</td>\n",
       "      <td>this perfect i strength pull this easy handle ...</td>\n",
       "    </tr>\n",
       "    <tr>\n",
       "      <th>3</th>\n",
       "      <td>male</td>\n",
       "      <td>I just just received my twelve cans of this st...</td>\n",
       "      <td>i received twelve cans good cans good expirati...</td>\n",
       "    </tr>\n",
       "    <tr>\n",
       "      <th>4</th>\n",
       "      <td>female</td>\n",
       "      <td>Excellent, in my opinion one of the best brand...</td>\n",
       "      <td>opinion one best brands hard drives good price...</td>\n",
       "    </tr>\n",
       "    <tr>\n",
       "      <th>5</th>\n",
       "      <td>female</td>\n",
       "      <td>To believe I didn't want to read this book , s...</td>\n",
       "      <td>to believe i want read book this book absolute...</td>\n",
       "    </tr>\n",
       "  </tbody>\n",
       "</table>\n",
       "</div>"
      ],
      "text/plain": [
       "   Gender                                             Review  \\\n",
       "1    male  Item was exactly as described.  Not thick wire...   \n",
       "2  female  This is perfect for me.  I don't have the stre...   \n",
       "3    male  I just just received my twelve cans of this st...   \n",
       "4  female  Excellent, in my opinion one of the best brand...   \n",
       "5  female  To believe I didn't want to read this book , s...   \n",
       "\n",
       "                                     Cleaned_Reviews  \n",
       "1  item exactly not thick wire casing i knew i bo...  \n",
       "2  this perfect i strength pull this easy handle ...  \n",
       "3  i received twelve cans good cans good expirati...  \n",
       "4  opinion one best brands hard drives good price...  \n",
       "5  to believe i want read book this book absolute...  "
      ]
     },
     "execution_count": 76,
     "metadata": {},
     "output_type": "execute_result"
    }
   ],
   "source": [
    "data.head()"
   ]
  },
  {
   "cell_type": "code",
   "execution_count": 77,
   "metadata": {},
   "outputs": [],
   "source": [
    "#1 for female and 0 for male\n",
    "data['Gender_conv'] = pd.get_dummies(data.Gender)['female']"
   ]
  },
  {
   "cell_type": "code",
   "execution_count": 78,
   "metadata": {},
   "outputs": [
    {
     "data": {
      "text/html": [
       "<div>\n",
       "<style scoped>\n",
       "    .dataframe tbody tr th:only-of-type {\n",
       "        vertical-align: middle;\n",
       "    }\n",
       "\n",
       "    .dataframe tbody tr th {\n",
       "        vertical-align: top;\n",
       "    }\n",
       "\n",
       "    .dataframe thead th {\n",
       "        text-align: right;\n",
       "    }\n",
       "</style>\n",
       "<table border=\"1\" class=\"dataframe\">\n",
       "  <thead>\n",
       "    <tr style=\"text-align: right;\">\n",
       "      <th></th>\n",
       "      <th>Gender</th>\n",
       "      <th>Review</th>\n",
       "      <th>Cleaned_Reviews</th>\n",
       "      <th>Gender_conv</th>\n",
       "    </tr>\n",
       "  </thead>\n",
       "  <tbody>\n",
       "    <tr>\n",
       "      <th>1</th>\n",
       "      <td>male</td>\n",
       "      <td>Item was exactly as described.  Not thick wire...</td>\n",
       "      <td>item exactly not thick wire casing i knew i bo...</td>\n",
       "      <td>0</td>\n",
       "    </tr>\n",
       "    <tr>\n",
       "      <th>2</th>\n",
       "      <td>female</td>\n",
       "      <td>This is perfect for me.  I don't have the stre...</td>\n",
       "      <td>this perfect i strength pull this easy handle ...</td>\n",
       "      <td>1</td>\n",
       "    </tr>\n",
       "    <tr>\n",
       "      <th>3</th>\n",
       "      <td>male</td>\n",
       "      <td>I just just received my twelve cans of this st...</td>\n",
       "      <td>i received twelve cans good cans good expirati...</td>\n",
       "      <td>0</td>\n",
       "    </tr>\n",
       "    <tr>\n",
       "      <th>4</th>\n",
       "      <td>female</td>\n",
       "      <td>Excellent, in my opinion one of the best brand...</td>\n",
       "      <td>opinion one best brands hard drives good price...</td>\n",
       "      <td>1</td>\n",
       "    </tr>\n",
       "    <tr>\n",
       "      <th>5</th>\n",
       "      <td>female</td>\n",
       "      <td>To believe I didn't want to read this book , s...</td>\n",
       "      <td>to believe i want read book this book absolute...</td>\n",
       "      <td>1</td>\n",
       "    </tr>\n",
       "  </tbody>\n",
       "</table>\n",
       "</div>"
      ],
      "text/plain": [
       "   Gender                                             Review  \\\n",
       "1    male  Item was exactly as described.  Not thick wire...   \n",
       "2  female  This is perfect for me.  I don't have the stre...   \n",
       "3    male  I just just received my twelve cans of this st...   \n",
       "4  female  Excellent, in my opinion one of the best brand...   \n",
       "5  female  To believe I didn't want to read this book , s...   \n",
       "\n",
       "                                     Cleaned_Reviews  Gender_conv  \n",
       "1  item exactly not thick wire casing i knew i bo...            0  \n",
       "2  this perfect i strength pull this easy handle ...            1  \n",
       "3  i received twelve cans good cans good expirati...            0  \n",
       "4  opinion one best brands hard drives good price...            1  \n",
       "5  to believe i want read book this book absolute...            1  "
      ]
     },
     "execution_count": 78,
     "metadata": {},
     "output_type": "execute_result"
    }
   ],
   "source": [
    "data.head()"
   ]
  },
  {
   "cell_type": "code",
   "execution_count": 79,
   "metadata": {},
   "outputs": [],
   "source": [
    "#improvements\n",
    "#stemming the reviews\n",
    "\n",
    "data['Cleaned_Reviews'] = data['Cleaned_Reviews'].apply(lambda x: \" \".join([porter_stemmer.stem(word) for word in x.split()]))"
   ]
  },
  {
   "cell_type": "code",
   "execution_count": 80,
   "metadata": {},
   "outputs": [
    {
     "data": {
      "text/html": [
       "<div>\n",
       "<style scoped>\n",
       "    .dataframe tbody tr th:only-of-type {\n",
       "        vertical-align: middle;\n",
       "    }\n",
       "\n",
       "    .dataframe tbody tr th {\n",
       "        vertical-align: top;\n",
       "    }\n",
       "\n",
       "    .dataframe thead th {\n",
       "        text-align: right;\n",
       "    }\n",
       "</style>\n",
       "<table border=\"1\" class=\"dataframe\">\n",
       "  <thead>\n",
       "    <tr style=\"text-align: right;\">\n",
       "      <th></th>\n",
       "      <th>Gender</th>\n",
       "      <th>Review</th>\n",
       "      <th>Cleaned_Reviews</th>\n",
       "      <th>Gender_conv</th>\n",
       "    </tr>\n",
       "  </thead>\n",
       "  <tbody>\n",
       "    <tr>\n",
       "      <th>1</th>\n",
       "      <td>male</td>\n",
       "      <td>Item was exactly as described.  Not thick wire...</td>\n",
       "      <td>item exactli not thick wire case i knew i boug...</td>\n",
       "      <td>0</td>\n",
       "    </tr>\n",
       "    <tr>\n",
       "      <th>2</th>\n",
       "      <td>female</td>\n",
       "      <td>This is perfect for me.  I don't have the stre...</td>\n",
       "      <td>thi perfect i strength pull thi easi handl gre...</td>\n",
       "      <td>1</td>\n",
       "    </tr>\n",
       "    <tr>\n",
       "      <th>3</th>\n",
       "      <td>male</td>\n",
       "      <td>I just just received my twelve cans of this st...</td>\n",
       "      <td>i receiv twelv can good can good expir date tw...</td>\n",
       "      <td>0</td>\n",
       "    </tr>\n",
       "    <tr>\n",
       "      <th>4</th>\n",
       "      <td>female</td>\n",
       "      <td>Excellent, in my opinion one of the best brand...</td>\n",
       "      <td>opinion one best brand hard drive good price c...</td>\n",
       "      <td>1</td>\n",
       "    </tr>\n",
       "    <tr>\n",
       "      <th>5</th>\n",
       "      <td>female</td>\n",
       "      <td>To believe I didn't want to read this book , s...</td>\n",
       "      <td>to believ i want read book thi book absolut am...</td>\n",
       "      <td>1</td>\n",
       "    </tr>\n",
       "  </tbody>\n",
       "</table>\n",
       "</div>"
      ],
      "text/plain": [
       "   Gender                                             Review  \\\n",
       "1    male  Item was exactly as described.  Not thick wire...   \n",
       "2  female  This is perfect for me.  I don't have the stre...   \n",
       "3    male  I just just received my twelve cans of this st...   \n",
       "4  female  Excellent, in my opinion one of the best brand...   \n",
       "5  female  To believe I didn't want to read this book , s...   \n",
       "\n",
       "                                     Cleaned_Reviews  Gender_conv  \n",
       "1  item exactli not thick wire case i knew i boug...            0  \n",
       "2  thi perfect i strength pull thi easi handl gre...            1  \n",
       "3  i receiv twelv can good can good expir date tw...            0  \n",
       "4  opinion one best brand hard drive good price c...            1  \n",
       "5  to believ i want read book thi book absolut am...            1  "
      ]
     },
     "execution_count": 80,
     "metadata": {},
     "output_type": "execute_result"
    }
   ],
   "source": [
    "data.head()"
   ]
  },
  {
   "cell_type": "code",
   "execution_count": 81,
   "metadata": {},
   "outputs": [],
   "source": [
    "data['Word_Count'] = data['Cleaned_Reviews'].str.split().str.len()"
   ]
  },
  {
   "cell_type": "code",
   "execution_count": 82,
   "metadata": {},
   "outputs": [
    {
     "data": {
      "text/html": [
       "<div>\n",
       "<style scoped>\n",
       "    .dataframe tbody tr th:only-of-type {\n",
       "        vertical-align: middle;\n",
       "    }\n",
       "\n",
       "    .dataframe tbody tr th {\n",
       "        vertical-align: top;\n",
       "    }\n",
       "\n",
       "    .dataframe thead th {\n",
       "        text-align: right;\n",
       "    }\n",
       "</style>\n",
       "<table border=\"1\" class=\"dataframe\">\n",
       "  <thead>\n",
       "    <tr style=\"text-align: right;\">\n",
       "      <th></th>\n",
       "      <th>Gender</th>\n",
       "      <th>Review</th>\n",
       "      <th>Cleaned_Reviews</th>\n",
       "      <th>Gender_conv</th>\n",
       "      <th>Word_Count</th>\n",
       "    </tr>\n",
       "  </thead>\n",
       "  <tbody>\n",
       "    <tr>\n",
       "      <th>1</th>\n",
       "      <td>male</td>\n",
       "      <td>Item was exactly as described.  Not thick wire...</td>\n",
       "      <td>item exactli not thick wire case i knew i boug...</td>\n",
       "      <td>0</td>\n",
       "      <td>14</td>\n",
       "    </tr>\n",
       "    <tr>\n",
       "      <th>2</th>\n",
       "      <td>female</td>\n",
       "      <td>This is perfect for me.  I don't have the stre...</td>\n",
       "      <td>thi perfect i strength pull thi easi handl gre...</td>\n",
       "      <td>1</td>\n",
       "      <td>19</td>\n",
       "    </tr>\n",
       "    <tr>\n",
       "      <th>3</th>\n",
       "      <td>male</td>\n",
       "      <td>I just just received my twelve cans of this st...</td>\n",
       "      <td>i receiv twelv can good can good expir date tw...</td>\n",
       "      <td>0</td>\n",
       "      <td>33</td>\n",
       "    </tr>\n",
       "    <tr>\n",
       "      <th>4</th>\n",
       "      <td>female</td>\n",
       "      <td>Excellent, in my opinion one of the best brand...</td>\n",
       "      <td>opinion one best brand hard drive good price c...</td>\n",
       "      <td>1</td>\n",
       "      <td>87</td>\n",
       "    </tr>\n",
       "    <tr>\n",
       "      <th>5</th>\n",
       "      <td>female</td>\n",
       "      <td>To believe I didn't want to read this book , s...</td>\n",
       "      <td>to believ i want read book thi book absolut am...</td>\n",
       "      <td>1</td>\n",
       "      <td>32</td>\n",
       "    </tr>\n",
       "  </tbody>\n",
       "</table>\n",
       "</div>"
      ],
      "text/plain": [
       "   Gender                                             Review  \\\n",
       "1    male  Item was exactly as described.  Not thick wire...   \n",
       "2  female  This is perfect for me.  I don't have the stre...   \n",
       "3    male  I just just received my twelve cans of this st...   \n",
       "4  female  Excellent, in my opinion one of the best brand...   \n",
       "5  female  To believe I didn't want to read this book , s...   \n",
       "\n",
       "                                     Cleaned_Reviews  Gender_conv  Word_Count  \n",
       "1  item exactli not thick wire case i knew i boug...            0          14  \n",
       "2  thi perfect i strength pull thi easi handl gre...            1          19  \n",
       "3  i receiv twelv can good can good expir date tw...            0          33  \n",
       "4  opinion one best brand hard drive good price c...            1          87  \n",
       "5  to believ i want read book thi book absolut am...            1          32  "
      ]
     },
     "execution_count": 82,
     "metadata": {},
     "output_type": "execute_result"
    }
   ],
   "source": [
    "data.head()"
   ]
  },
  {
   "cell_type": "code",
   "execution_count": 83,
   "metadata": {},
   "outputs": [],
   "source": [
    "X = data[['Cleaned_Reviews', 'Word_Count']]\n",
    "Y = data['Gender_conv']\n",
    "\n",
    "#test train split\n",
    "X_train, X_test, y_train, y_test = train_test_split(X, Y, test_size=0.2, random_state = 0)"
   ]
  },
  {
   "cell_type": "code",
   "execution_count": 84,
   "metadata": {},
   "outputs": [],
   "source": [
    "from sklearn.base import BaseEstimator, TransformerMixin\n",
    "\n",
    "class TextSelector(BaseEstimator, TransformerMixin):\n",
    "    def __init__(self, field):\n",
    "        self.field = field\n",
    "    def fit(self, X, y=None):\n",
    "        return self\n",
    "    def transform(self, X):\n",
    "        return X[self.field]\n",
    "    \n",
    "    \n",
    "class NumberSelector(BaseEstimator, TransformerMixin):\n",
    "    def __init__(self, field):\n",
    "        self.field = field\n",
    "    def fit(self, X, y=None):\n",
    "        return self\n",
    "    def transform(self, X):\n",
    "        return X[[self.field]]"
   ]
  },
  {
   "cell_type": "code",
   "execution_count": 85,
   "metadata": {},
   "outputs": [],
   "source": [
    "classifier = Pipeline([\n",
    "    ('features', FeatureUnion([\n",
    "        ('text', Pipeline([\n",
    "            ('colext', TextSelector('Cleaned_Reviews')),\n",
    "            ('tfidf', TfidfVectorizer( stop_words=\"english\",\n",
    "                     min_df=.0025, max_df=0.25, ngram_range=(1,3))),\n",
    "            #('svd', TruncatedSVD(algorithm='randomized', n_components=300)), #for XGB\n",
    "        ])),\n",
    "        ('words', Pipeline([\n",
    "            ('wordext', NumberSelector('Word_Count')),\n",
    "            ('wscaler', StandardScaler()),\n",
    "        ])),\n",
    "    ])),\n",
    "    ('clf', LogisticRegression(C=1.0, penalty='l2', max_iter=3000, dual=False)),\n",
    "#    ('clf', RandomForestClassifier()),\n",
    "    ])"
   ]
  },
  {
   "cell_type": "code",
   "execution_count": 86,
   "metadata": {},
   "outputs": [
    {
     "data": {
      "text/plain": [
       "Pipeline(memory=None,\n",
       "     steps=[('features', FeatureUnion(n_jobs=1,\n",
       "       transformer_list=[('text', Pipeline(memory=None,\n",
       "     steps=[('colext', TextSelector(field='Cleaned_Reviews')), ('tfidf', TfidfVectorizer(analyzer='word', binary=False, decode_error='strict',\n",
       "        dtype=<class 'numpy.int64'>, encoding='utf-8', inp...ty='l2', random_state=None, solver='liblinear', tol=0.0001,\n",
       "          verbose=0, warm_start=False))])"
      ]
     },
     "execution_count": 86,
     "metadata": {},
     "output_type": "execute_result"
    }
   ],
   "source": [
    "classifier.fit(X_train,y_train)"
   ]
  },
  {
   "cell_type": "code",
   "execution_count": 87,
   "metadata": {},
   "outputs": [],
   "source": [
    "preds = classifier.predict(X_test)"
   ]
  },
  {
   "cell_type": "code",
   "execution_count": 89,
   "metadata": {},
   "outputs": [
    {
     "name": "stdout",
     "output_type": "stream",
     "text": [
      "Accuracy: 0.68535\n",
      "Precision: 0.6814896607107007\n",
      "             precision    recall  f1-score   support\n",
      "\n",
      "          0       0.69      0.69      0.69     10091\n",
      "          1       0.68      0.69      0.68      9909\n",
      "\n",
      "avg / total       0.69      0.69      0.69     20000\n",
      "\n",
      "[[6918 3173]\n",
      " [3120 6789]]\n"
     ]
    }
   ],
   "source": [
    "from sklearn.metrics import accuracy_score, precision_score, classification_report, confusion_matrix\n",
    "print(\"Accuracy:\", accuracy_score(y_test, preds))\n",
    "print(\"Precision:\", precision_score(y_test, preds))\n",
    "print(classification_report(y_test, preds))\n",
    "print(confusion_matrix(y_test, preds))\n",
    "\n",
    "# [[ true_negatives   false_positives]\n",
    "#  [ false_negatives  true_positives]]"
   ]
  },
  {
   "cell_type": "code",
   "execution_count": null,
   "metadata": {},
   "outputs": [],
   "source": []
  }
 ],
 "metadata": {
  "kernelspec": {
   "display_name": "Python 3",
   "language": "python",
   "name": "python3"
  },
  "language_info": {
   "codemirror_mode": {
    "name": "ipython",
    "version": 3
   },
   "file_extension": ".py",
   "mimetype": "text/x-python",
   "name": "python",
   "nbconvert_exporter": "python",
   "pygments_lexer": "ipython3",
   "version": "3.6.5"
  }
 },
 "nbformat": 4,
 "nbformat_minor": 2
}
