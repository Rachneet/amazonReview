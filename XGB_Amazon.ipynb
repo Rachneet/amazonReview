{
 "cells": [
  {
   "cell_type": "code",
   "execution_count": 2,
   "metadata": {},
   "outputs": [
    {
     "name": "stdout",
     "output_type": "stream",
     "text": [
      "Populating the interactive namespace from numpy and matplotlib\n"
     ]
    }
   ],
   "source": [
    "%pylab inline\n",
    "import pandas as pd\n",
    "import csv\n",
    "import numpy as np\n",
    "import re\n",
    "import nltk\n",
    "import matplotlib.pyplot as plt\n",
    "from nltk.corpus import stopwords\n",
    "from nltk.stem import SnowballStemmer\n",
    "from sklearn.feature_extraction.text import TfidfVectorizer\n",
    "from sklearn.pipeline import Pipeline, FeatureUnion\n",
    "from sklearn.preprocessing import StandardScaler\n",
    "from sklearn.decomposition import TruncatedSVD\n",
    "from sklearn.model_selection import train_test_split\n",
    "from xgboost import XGBClassifier\n",
    "import string"
   ]
  },
  {
   "cell_type": "code",
   "execution_count": 3,
   "metadata": {},
   "outputs": [],
   "source": [
    "#read csv\n",
    "amazon_df = pd.read_csv('/media/backup/Data/Amazon/amazon_male.csv', sep='|',encoding='utf8',quoting=csv.QUOTE_NONE, dtype={'Overall_Rating':float, 'Timestamp': int})"
   ]
  },
  {
   "cell_type": "code",
   "execution_count": 4,
   "metadata": {},
   "outputs": [],
   "source": [
    "#arranging row index\n",
    "amazon_df.index = amazon_df.index+1"
   ]
  },
  {
   "cell_type": "code",
   "execution_count": 5,
   "metadata": {},
   "outputs": [
    {
     "data": {
      "text/html": [
       "<div>\n",
       "<style scoped>\n",
       "    .dataframe tbody tr th:only-of-type {\n",
       "        vertical-align: middle;\n",
       "    }\n",
       "\n",
       "    .dataframe tbody tr th {\n",
       "        vertical-align: top;\n",
       "    }\n",
       "\n",
       "    .dataframe thead th {\n",
       "        text-align: right;\n",
       "    }\n",
       "</style>\n",
       "<table border=\"1\" class=\"dataframe\">\n",
       "  <thead>\n",
       "    <tr style=\"text-align: right;\">\n",
       "      <th></th>\n",
       "      <th>Reviewer_Id</th>\n",
       "      <th>Product_Id</th>\n",
       "      <th>Name</th>\n",
       "      <th>Gender</th>\n",
       "      <th>Helpfulness</th>\n",
       "      <th>Review</th>\n",
       "      <th>Overall_Rating</th>\n",
       "      <th>Timestamp</th>\n",
       "    </tr>\n",
       "  </thead>\n",
       "  <tbody>\n",
       "    <tr>\n",
       "      <th>1</th>\n",
       "      <td>A00000262KYZUE4J55XGL</td>\n",
       "      <td>B003UYU16G</td>\n",
       "      <td>Steven N Elich</td>\n",
       "      <td>male</td>\n",
       "      <td>0,0</td>\n",
       "      <td>It is and does exactly what the description sa...</td>\n",
       "      <td>5.0</td>\n",
       "      <td>1353456000</td>\n",
       "    </tr>\n",
       "    <tr>\n",
       "      <th>2</th>\n",
       "      <td>A00000922W28P2OCH6JSE</td>\n",
       "      <td>B000VEBG9Y</td>\n",
       "      <td>Gabriel Merrill</td>\n",
       "      <td>male</td>\n",
       "      <td>0,0</td>\n",
       "      <td>Very mobile product. Efficient. Easy to use; h...</td>\n",
       "      <td>3.0</td>\n",
       "      <td>1395619200</td>\n",
       "    </tr>\n",
       "    <tr>\n",
       "      <th>3</th>\n",
       "      <td>A00000922W28P2OCH6JSE</td>\n",
       "      <td>B001EJMS6K</td>\n",
       "      <td>Gabriel Merrill</td>\n",
       "      <td>male</td>\n",
       "      <td>0,0</td>\n",
       "      <td>Easy to use a mobile. If you're taller than 4f...</td>\n",
       "      <td>4.0</td>\n",
       "      <td>1395619200</td>\n",
       "    </tr>\n",
       "    <tr>\n",
       "      <th>4</th>\n",
       "      <td>A00000922W28P2OCH6JSE</td>\n",
       "      <td>B003XJCNVO</td>\n",
       "      <td>Gabriel Merrill</td>\n",
       "      <td>male</td>\n",
       "      <td>0,0</td>\n",
       "      <td>Love this feeder. Heavy duty &amp; capacity. Best ...</td>\n",
       "      <td>4.0</td>\n",
       "      <td>1395619200</td>\n",
       "    </tr>\n",
       "    <tr>\n",
       "      <th>5</th>\n",
       "      <td>A00000922W28P2OCH6JSE</td>\n",
       "      <td>B00G3KN9LI</td>\n",
       "      <td>Gabriel Merrill</td>\n",
       "      <td>male</td>\n",
       "      <td>0,0</td>\n",
       "      <td>Solid, stable mount. Holds iPhone with phone p...</td>\n",
       "      <td>4.0</td>\n",
       "      <td>1396051200</td>\n",
       "    </tr>\n",
       "  </tbody>\n",
       "</table>\n",
       "</div>"
      ],
      "text/plain": [
       "             Reviewer_Id  Product_Id             Name Gender Helpfulness  \\\n",
       "1  A00000262KYZUE4J55XGL  B003UYU16G   Steven N Elich   male         0,0   \n",
       "2  A00000922W28P2OCH6JSE  B000VEBG9Y  Gabriel Merrill   male         0,0   \n",
       "3  A00000922W28P2OCH6JSE  B001EJMS6K  Gabriel Merrill   male         0,0   \n",
       "4  A00000922W28P2OCH6JSE  B003XJCNVO  Gabriel Merrill   male         0,0   \n",
       "5  A00000922W28P2OCH6JSE  B00G3KN9LI  Gabriel Merrill   male         0,0   \n",
       "\n",
       "                                              Review  Overall_Rating  \\\n",
       "1  It is and does exactly what the description sa...             5.0   \n",
       "2  Very mobile product. Efficient. Easy to use; h...             3.0   \n",
       "3  Easy to use a mobile. If you're taller than 4f...             4.0   \n",
       "4  Love this feeder. Heavy duty & capacity. Best ...             4.0   \n",
       "5  Solid, stable mount. Holds iPhone with phone p...             4.0   \n",
       "\n",
       "    Timestamp  \n",
       "1  1353456000  \n",
       "2  1395619200  \n",
       "3  1395619200  \n",
       "4  1395619200  \n",
       "5  1396051200  "
      ]
     },
     "execution_count": 5,
     "metadata": {},
     "output_type": "execute_result"
    }
   ],
   "source": [
    "amazon_df.head()"
   ]
  },
  {
   "cell_type": "code",
   "execution_count": 6,
   "metadata": {},
   "outputs": [
    {
     "data": {
      "text/plain": [
       "(16950602, 8)"
      ]
     },
     "execution_count": 6,
     "metadata": {},
     "output_type": "execute_result"
    }
   ],
   "source": [
    "#amazon_df.Review.to_csv(Reviews.csv)\n",
    "amazon_df.shape"
   ]
  },
  {
   "cell_type": "code",
   "execution_count": 7,
   "metadata": {},
   "outputs": [],
   "source": [
    "amazon_df.drop(['Reviewer_Id','Product_Id', 'Name', 'Helpfulness', 'Overall_Rating', 'Timestamp'], axis=1, inplace=True)    "
   ]
  },
  {
   "cell_type": "code",
   "execution_count": 8,
   "metadata": {},
   "outputs": [],
   "source": [
    "amazon_df = amazon_df.iloc[:50000]"
   ]
  },
  {
   "cell_type": "code",
   "execution_count": 9,
   "metadata": {},
   "outputs": [
    {
     "data": {
      "text/html": [
       "<div>\n",
       "<style scoped>\n",
       "    .dataframe tbody tr th:only-of-type {\n",
       "        vertical-align: middle;\n",
       "    }\n",
       "\n",
       "    .dataframe tbody tr th {\n",
       "        vertical-align: top;\n",
       "    }\n",
       "\n",
       "    .dataframe thead th {\n",
       "        text-align: right;\n",
       "    }\n",
       "</style>\n",
       "<table border=\"1\" class=\"dataframe\">\n",
       "  <thead>\n",
       "    <tr style=\"text-align: right;\">\n",
       "      <th></th>\n",
       "      <th>Gender</th>\n",
       "      <th>Review</th>\n",
       "    </tr>\n",
       "  </thead>\n",
       "  <tbody>\n",
       "    <tr>\n",
       "      <th>1</th>\n",
       "      <td>male</td>\n",
       "      <td>It is and does exactly what the description sa...</td>\n",
       "    </tr>\n",
       "    <tr>\n",
       "      <th>2</th>\n",
       "      <td>male</td>\n",
       "      <td>Very mobile product. Efficient. Easy to use; h...</td>\n",
       "    </tr>\n",
       "    <tr>\n",
       "      <th>3</th>\n",
       "      <td>male</td>\n",
       "      <td>Easy to use a mobile. If you're taller than 4f...</td>\n",
       "    </tr>\n",
       "    <tr>\n",
       "      <th>4</th>\n",
       "      <td>male</td>\n",
       "      <td>Love this feeder. Heavy duty &amp; capacity. Best ...</td>\n",
       "    </tr>\n",
       "    <tr>\n",
       "      <th>5</th>\n",
       "      <td>male</td>\n",
       "      <td>Solid, stable mount. Holds iPhone with phone p...</td>\n",
       "    </tr>\n",
       "  </tbody>\n",
       "</table>\n",
       "</div>"
      ],
      "text/plain": [
       "  Gender                                             Review\n",
       "1   male  It is and does exactly what the description sa...\n",
       "2   male  Very mobile product. Efficient. Easy to use; h...\n",
       "3   male  Easy to use a mobile. If you're taller than 4f...\n",
       "4   male  Love this feeder. Heavy duty & capacity. Best ...\n",
       "5   male  Solid, stable mount. Holds iPhone with phone p..."
      ]
     },
     "execution_count": 9,
     "metadata": {},
     "output_type": "execute_result"
    }
   ],
   "source": [
    "amazon_df.head()"
   ]
  },
  {
   "cell_type": "markdown",
   "metadata": {},
   "source": [
    "# Female Data"
   ]
  },
  {
   "cell_type": "code",
   "execution_count": 10,
   "metadata": {},
   "outputs": [],
   "source": [
    "amazon_df_f = pd.read_csv('/media/backup/Data/Amazon/amazon_female.csv', sep='|',encoding='utf8',quoting=csv.QUOTE_NONE, dtype={'Overall_Rating':float, 'Timestamp': int})"
   ]
  },
  {
   "cell_type": "code",
   "execution_count": 11,
   "metadata": {},
   "outputs": [],
   "source": [
    "#arranging row index\n",
    "amazon_df_f.index = amazon_df_f.index+1"
   ]
  },
  {
   "cell_type": "code",
   "execution_count": 12,
   "metadata": {},
   "outputs": [
    {
     "data": {
      "text/html": [
       "<div>\n",
       "<style scoped>\n",
       "    .dataframe tbody tr th:only-of-type {\n",
       "        vertical-align: middle;\n",
       "    }\n",
       "\n",
       "    .dataframe tbody tr th {\n",
       "        vertical-align: top;\n",
       "    }\n",
       "\n",
       "    .dataframe thead th {\n",
       "        text-align: right;\n",
       "    }\n",
       "</style>\n",
       "<table border=\"1\" class=\"dataframe\">\n",
       "  <thead>\n",
       "    <tr style=\"text-align: right;\">\n",
       "      <th></th>\n",
       "      <th>Reviewer_Id</th>\n",
       "      <th>Product_Id</th>\n",
       "      <th>Name</th>\n",
       "      <th>Gender</th>\n",
       "      <th>Helpfulness</th>\n",
       "      <th>Review</th>\n",
       "      <th>Overall_Rating</th>\n",
       "      <th>Timestamp</th>\n",
       "    </tr>\n",
       "  </thead>\n",
       "  <tbody>\n",
       "    <tr>\n",
       "      <th>1</th>\n",
       "      <td>A00001362Q1PGIX2FYSSH</td>\n",
       "      <td>B00125OS3C</td>\n",
       "      <td>Pamela Bellamy</td>\n",
       "      <td>female</td>\n",
       "      <td>0,0</td>\n",
       "      <td>Beautiful photos/film with wonderful music.  G...</td>\n",
       "      <td>5.0</td>\n",
       "      <td>1377907200</td>\n",
       "    </tr>\n",
       "    <tr>\n",
       "      <th>2</th>\n",
       "      <td>A00001362Q1PGIX2FYSSH</td>\n",
       "      <td>B002IGHX40</td>\n",
       "      <td>Pamela Bellamy</td>\n",
       "      <td>female</td>\n",
       "      <td>1,1</td>\n",
       "      <td>My idea of Colorado is &amp;#34;Mountains&amp;#34;.  C...</td>\n",
       "      <td>2.0</td>\n",
       "      <td>1377907200</td>\n",
       "    </tr>\n",
       "    <tr>\n",
       "      <th>3</th>\n",
       "      <td>A00003262KNLZOSMMMFVV</td>\n",
       "      <td>B002Y2U8MC</td>\n",
       "      <td>Harue Rojas</td>\n",
       "      <td>female</td>\n",
       "      <td>1,1</td>\n",
       "      <td>It is not a sticker, it is a Chritsmas story  ...</td>\n",
       "      <td>5.0</td>\n",
       "      <td>1361145600</td>\n",
       "    </tr>\n",
       "    <tr>\n",
       "      <th>4</th>\n",
       "      <td>A00003262KNLZOSMMMFVV</td>\n",
       "      <td>B004P598FY</td>\n",
       "      <td>Harue Rojas</td>\n",
       "      <td>female</td>\n",
       "      <td>1,1</td>\n",
       "      <td>LOve the size and the details, and its very co...</td>\n",
       "      <td>5.0</td>\n",
       "      <td>1361145600</td>\n",
       "    </tr>\n",
       "    <tr>\n",
       "      <th>5</th>\n",
       "      <td>A00003262KNLZOSMMMFVV</td>\n",
       "      <td>B005MU3UE6</td>\n",
       "      <td>Harue Rojas</td>\n",
       "      <td>female</td>\n",
       "      <td>1,1</td>\n",
       "      <td>Its very colorful and the image once  you  put...</td>\n",
       "      <td>5.0</td>\n",
       "      <td>1361145600</td>\n",
       "    </tr>\n",
       "  </tbody>\n",
       "</table>\n",
       "</div>"
      ],
      "text/plain": [
       "             Reviewer_Id  Product_Id            Name  Gender Helpfulness  \\\n",
       "1  A00001362Q1PGIX2FYSSH  B00125OS3C  Pamela Bellamy  female         0,0   \n",
       "2  A00001362Q1PGIX2FYSSH  B002IGHX40  Pamela Bellamy  female         1,1   \n",
       "3  A00003262KNLZOSMMMFVV  B002Y2U8MC     Harue Rojas  female         1,1   \n",
       "4  A00003262KNLZOSMMMFVV  B004P598FY     Harue Rojas  female         1,1   \n",
       "5  A00003262KNLZOSMMMFVV  B005MU3UE6     Harue Rojas  female         1,1   \n",
       "\n",
       "                                              Review  Overall_Rating  \\\n",
       "1  Beautiful photos/film with wonderful music.  G...             5.0   \n",
       "2  My idea of Colorado is &#34;Mountains&#34;.  C...             2.0   \n",
       "3  It is not a sticker, it is a Chritsmas story  ...             5.0   \n",
       "4  LOve the size and the details, and its very co...             5.0   \n",
       "5  Its very colorful and the image once  you  put...             5.0   \n",
       "\n",
       "    Timestamp  \n",
       "1  1377907200  \n",
       "2  1377907200  \n",
       "3  1361145600  \n",
       "4  1361145600  \n",
       "5  1361145600  "
      ]
     },
     "execution_count": 12,
     "metadata": {},
     "output_type": "execute_result"
    }
   ],
   "source": [
    "amazon_df_f.head()"
   ]
  },
  {
   "cell_type": "code",
   "execution_count": 13,
   "metadata": {},
   "outputs": [],
   "source": [
    "amazon_df_f.drop(['Reviewer_Id','Product_Id', 'Name', 'Helpfulness', 'Overall_Rating', 'Timestamp'], axis=1, inplace=True)    "
   ]
  },
  {
   "cell_type": "code",
   "execution_count": 14,
   "metadata": {},
   "outputs": [],
   "source": [
    "amazon_df_f = amazon_df_f.iloc[:50000]"
   ]
  },
  {
   "cell_type": "code",
   "execution_count": 15,
   "metadata": {},
   "outputs": [
    {
     "data": {
      "text/plain": [
       "(50000, 2)"
      ]
     },
     "execution_count": 15,
     "metadata": {},
     "output_type": "execute_result"
    }
   ],
   "source": [
    "amazon_df_f.shape"
   ]
  },
  {
   "cell_type": "code",
   "execution_count": 16,
   "metadata": {},
   "outputs": [
    {
     "data": {
      "text/html": [
       "<div>\n",
       "<style scoped>\n",
       "    .dataframe tbody tr th:only-of-type {\n",
       "        vertical-align: middle;\n",
       "    }\n",
       "\n",
       "    .dataframe tbody tr th {\n",
       "        vertical-align: top;\n",
       "    }\n",
       "\n",
       "    .dataframe thead th {\n",
       "        text-align: right;\n",
       "    }\n",
       "</style>\n",
       "<table border=\"1\" class=\"dataframe\">\n",
       "  <thead>\n",
       "    <tr style=\"text-align: right;\">\n",
       "      <th></th>\n",
       "      <th>Gender</th>\n",
       "      <th>Review</th>\n",
       "    </tr>\n",
       "  </thead>\n",
       "  <tbody>\n",
       "    <tr>\n",
       "      <th>1</th>\n",
       "      <td>female</td>\n",
       "      <td>Beautiful photos/film with wonderful music.  G...</td>\n",
       "    </tr>\n",
       "    <tr>\n",
       "      <th>2</th>\n",
       "      <td>female</td>\n",
       "      <td>My idea of Colorado is &amp;#34;Mountains&amp;#34;.  C...</td>\n",
       "    </tr>\n",
       "    <tr>\n",
       "      <th>3</th>\n",
       "      <td>female</td>\n",
       "      <td>It is not a sticker, it is a Chritsmas story  ...</td>\n",
       "    </tr>\n",
       "    <tr>\n",
       "      <th>4</th>\n",
       "      <td>female</td>\n",
       "      <td>LOve the size and the details, and its very co...</td>\n",
       "    </tr>\n",
       "    <tr>\n",
       "      <th>5</th>\n",
       "      <td>female</td>\n",
       "      <td>Its very colorful and the image once  you  put...</td>\n",
       "    </tr>\n",
       "  </tbody>\n",
       "</table>\n",
       "</div>"
      ],
      "text/plain": [
       "   Gender                                             Review\n",
       "1  female  Beautiful photos/film with wonderful music.  G...\n",
       "2  female  My idea of Colorado is &#34;Mountains&#34;.  C...\n",
       "3  female  It is not a sticker, it is a Chritsmas story  ...\n",
       "4  female  LOve the size and the details, and its very co...\n",
       "5  female  Its very colorful and the image once  you  put..."
      ]
     },
     "execution_count": 16,
     "metadata": {},
     "output_type": "execute_result"
    }
   ],
   "source": [
    "amazon_df_f.head()"
   ]
  },
  {
   "cell_type": "code",
   "execution_count": 17,
   "metadata": {},
   "outputs": [],
   "source": [
    "data = amazon_df.append(amazon_df_f, ignore_index= True)"
   ]
  },
  {
   "cell_type": "code",
   "execution_count": 18,
   "metadata": {},
   "outputs": [],
   "source": [
    "data.index = data.index + 1"
   ]
  },
  {
   "cell_type": "code",
   "execution_count": 19,
   "metadata": {},
   "outputs": [
    {
     "data": {
      "text/plain": [
       "(100000, 2)"
      ]
     },
     "execution_count": 19,
     "metadata": {},
     "output_type": "execute_result"
    }
   ],
   "source": [
    "data.shape"
   ]
  },
  {
   "cell_type": "code",
   "execution_count": 20,
   "metadata": {},
   "outputs": [],
   "source": [
    "data = data.sample(frac = 1).reset_index(drop=True)"
   ]
  },
  {
   "cell_type": "code",
   "execution_count": 21,
   "metadata": {},
   "outputs": [],
   "source": [
    "data.index = data.index +1"
   ]
  },
  {
   "cell_type": "code",
   "execution_count": 22,
   "metadata": {},
   "outputs": [
    {
     "data": {
      "text/html": [
       "<div>\n",
       "<style scoped>\n",
       "    .dataframe tbody tr th:only-of-type {\n",
       "        vertical-align: middle;\n",
       "    }\n",
       "\n",
       "    .dataframe tbody tr th {\n",
       "        vertical-align: top;\n",
       "    }\n",
       "\n",
       "    .dataframe thead th {\n",
       "        text-align: right;\n",
       "    }\n",
       "</style>\n",
       "<table border=\"1\" class=\"dataframe\">\n",
       "  <thead>\n",
       "    <tr style=\"text-align: right;\">\n",
       "      <th></th>\n",
       "      <th>Gender</th>\n",
       "      <th>Review</th>\n",
       "    </tr>\n",
       "  </thead>\n",
       "  <tbody>\n",
       "    <tr>\n",
       "      <th>1</th>\n",
       "      <td>female</td>\n",
       "      <td>This nose ring is too short. It hurt my nose a...</td>\n",
       "    </tr>\n",
       "    <tr>\n",
       "      <th>2</th>\n",
       "      <td>male</td>\n",
       "      <td>A great concept in mult-generational protagoni...</td>\n",
       "    </tr>\n",
       "    <tr>\n",
       "      <th>3</th>\n",
       "      <td>female</td>\n",
       "      <td>Wow. Wasn't expecting to receive the package s...</td>\n",
       "    </tr>\n",
       "    <tr>\n",
       "      <th>4</th>\n",
       "      <td>female</td>\n",
       "      <td>I will continue using this product because it ...</td>\n",
       "    </tr>\n",
       "    <tr>\n",
       "      <th>5</th>\n",
       "      <td>female</td>\n",
       "      <td>i was a bit dissapointed that the jersey did n...</td>\n",
       "    </tr>\n",
       "  </tbody>\n",
       "</table>\n",
       "</div>"
      ],
      "text/plain": [
       "   Gender                                             Review\n",
       "1  female  This nose ring is too short. It hurt my nose a...\n",
       "2    male  A great concept in mult-generational protagoni...\n",
       "3  female  Wow. Wasn't expecting to receive the package s...\n",
       "4  female  I will continue using this product because it ...\n",
       "5  female  i was a bit dissapointed that the jersey did n..."
      ]
     },
     "execution_count": 22,
     "metadata": {},
     "output_type": "execute_result"
    }
   ],
   "source": [
    "data.head()"
   ]
  },
  {
   "cell_type": "markdown",
   "metadata": {},
   "source": [
    "# Data Preprocessing"
   ]
  },
  {
   "cell_type": "code",
   "execution_count": 23,
   "metadata": {},
   "outputs": [],
   "source": [
    "#data preprocessing\n",
    "porter_stemmer = nltk.PorterStemmer()\n",
    "words = stopwords.words(\"english\")"
   ]
  },
  {
   "cell_type": "code",
   "execution_count": 24,
   "metadata": {},
   "outputs": [],
   "source": [
    "data['Review'] = data['Review'].apply(str)"
   ]
  },
  {
   "cell_type": "code",
   "execution_count": 25,
   "metadata": {},
   "outputs": [],
   "source": [
    "#remove punctuation for each word\n",
    "#maketrans() method returns a translation table that maps each character in the \n",
    "#intab string into the character at the same position in the outtab string\n",
    "table = str.maketrans('','', string.punctuation)"
   ]
  },
  {
   "cell_type": "code",
   "execution_count": 26,
   "metadata": {},
   "outputs": [],
   "source": [
    "#data cleaning and forming a new column\n",
    "#remove words that are not alphanumeric eg. remove s of what's \n",
    "\n",
    "data['Cleaned_Reviews'] = data['Review'].apply(lambda x: \" \".join([i.translate(table) for i in x.split() if i.isalpha() if i not in words]).lower())"
   ]
  },
  {
   "cell_type": "code",
   "execution_count": 27,
   "metadata": {},
   "outputs": [
    {
     "data": {
      "text/html": [
       "<div>\n",
       "<style scoped>\n",
       "    .dataframe tbody tr th:only-of-type {\n",
       "        vertical-align: middle;\n",
       "    }\n",
       "\n",
       "    .dataframe tbody tr th {\n",
       "        vertical-align: top;\n",
       "    }\n",
       "\n",
       "    .dataframe thead th {\n",
       "        text-align: right;\n",
       "    }\n",
       "</style>\n",
       "<table border=\"1\" class=\"dataframe\">\n",
       "  <thead>\n",
       "    <tr style=\"text-align: right;\">\n",
       "      <th></th>\n",
       "      <th>Gender</th>\n",
       "      <th>Review</th>\n",
       "      <th>Cleaned_Reviews</th>\n",
       "    </tr>\n",
       "  </thead>\n",
       "  <tbody>\n",
       "    <tr>\n",
       "      <th>1</th>\n",
       "      <td>female</td>\n",
       "      <td>This nose ring is too short. It hurt my nose a...</td>\n",
       "      <td>this nose ring it hurt nose cute post needs bi...</td>\n",
       "    </tr>\n",
       "    <tr>\n",
       "      <th>2</th>\n",
       "      <td>male</td>\n",
       "      <td>A great concept in mult-generational protagoni...</td>\n",
       "      <td>a great concept protagonist gameplay makes har...</td>\n",
       "    </tr>\n",
       "    <tr>\n",
       "      <th>3</th>\n",
       "      <td>female</td>\n",
       "      <td>Wow. Wasn't expecting to receive the package s...</td>\n",
       "      <td>expecting receive package i ordered friday aft...</td>\n",
       "    </tr>\n",
       "    <tr>\n",
       "      <th>4</th>\n",
       "      <td>female</td>\n",
       "      <td>I will continue using this product because it ...</td>\n",
       "      <td>i continue using product fragrance definitely ...</td>\n",
       "    </tr>\n",
       "    <tr>\n",
       "      <th>5</th>\n",
       "      <td>female</td>\n",
       "      <td>i was a bit dissapointed that the jersey did n...</td>\n",
       "      <td>bit dissapointed jersey tracking number took t...</td>\n",
       "    </tr>\n",
       "  </tbody>\n",
       "</table>\n",
       "</div>"
      ],
      "text/plain": [
       "   Gender                                             Review  \\\n",
       "1  female  This nose ring is too short. It hurt my nose a...   \n",
       "2    male  A great concept in mult-generational protagoni...   \n",
       "3  female  Wow. Wasn't expecting to receive the package s...   \n",
       "4  female  I will continue using this product because it ...   \n",
       "5  female  i was a bit dissapointed that the jersey did n...   \n",
       "\n",
       "                                     Cleaned_Reviews  \n",
       "1  this nose ring it hurt nose cute post needs bi...  \n",
       "2  a great concept protagonist gameplay makes har...  \n",
       "3  expecting receive package i ordered friday aft...  \n",
       "4  i continue using product fragrance definitely ...  \n",
       "5  bit dissapointed jersey tracking number took t...  "
      ]
     },
     "execution_count": 27,
     "metadata": {},
     "output_type": "execute_result"
    }
   ],
   "source": [
    "data.head()"
   ]
  },
  {
   "cell_type": "code",
   "execution_count": 28,
   "metadata": {},
   "outputs": [],
   "source": [
    "#1 for female and 0 for male\n",
    "data['Gender_conv'] = pd.get_dummies(data.Gender)['female']"
   ]
  },
  {
   "cell_type": "code",
   "execution_count": 29,
   "metadata": {},
   "outputs": [
    {
     "data": {
      "text/html": [
       "<div>\n",
       "<style scoped>\n",
       "    .dataframe tbody tr th:only-of-type {\n",
       "        vertical-align: middle;\n",
       "    }\n",
       "\n",
       "    .dataframe tbody tr th {\n",
       "        vertical-align: top;\n",
       "    }\n",
       "\n",
       "    .dataframe thead th {\n",
       "        text-align: right;\n",
       "    }\n",
       "</style>\n",
       "<table border=\"1\" class=\"dataframe\">\n",
       "  <thead>\n",
       "    <tr style=\"text-align: right;\">\n",
       "      <th></th>\n",
       "      <th>Gender</th>\n",
       "      <th>Review</th>\n",
       "      <th>Cleaned_Reviews</th>\n",
       "      <th>Gender_conv</th>\n",
       "    </tr>\n",
       "  </thead>\n",
       "  <tbody>\n",
       "    <tr>\n",
       "      <th>1</th>\n",
       "      <td>female</td>\n",
       "      <td>This nose ring is too short. It hurt my nose a...</td>\n",
       "      <td>this nose ring it hurt nose cute post needs bi...</td>\n",
       "      <td>1</td>\n",
       "    </tr>\n",
       "    <tr>\n",
       "      <th>2</th>\n",
       "      <td>male</td>\n",
       "      <td>A great concept in mult-generational protagoni...</td>\n",
       "      <td>a great concept protagonist gameplay makes har...</td>\n",
       "      <td>0</td>\n",
       "    </tr>\n",
       "    <tr>\n",
       "      <th>3</th>\n",
       "      <td>female</td>\n",
       "      <td>Wow. Wasn't expecting to receive the package s...</td>\n",
       "      <td>expecting receive package i ordered friday aft...</td>\n",
       "      <td>1</td>\n",
       "    </tr>\n",
       "    <tr>\n",
       "      <th>4</th>\n",
       "      <td>female</td>\n",
       "      <td>I will continue using this product because it ...</td>\n",
       "      <td>i continue using product fragrance definitely ...</td>\n",
       "      <td>1</td>\n",
       "    </tr>\n",
       "    <tr>\n",
       "      <th>5</th>\n",
       "      <td>female</td>\n",
       "      <td>i was a bit dissapointed that the jersey did n...</td>\n",
       "      <td>bit dissapointed jersey tracking number took t...</td>\n",
       "      <td>1</td>\n",
       "    </tr>\n",
       "  </tbody>\n",
       "</table>\n",
       "</div>"
      ],
      "text/plain": [
       "   Gender                                             Review  \\\n",
       "1  female  This nose ring is too short. It hurt my nose a...   \n",
       "2    male  A great concept in mult-generational protagoni...   \n",
       "3  female  Wow. Wasn't expecting to receive the package s...   \n",
       "4  female  I will continue using this product because it ...   \n",
       "5  female  i was a bit dissapointed that the jersey did n...   \n",
       "\n",
       "                                     Cleaned_Reviews  Gender_conv  \n",
       "1  this nose ring it hurt nose cute post needs bi...            1  \n",
       "2  a great concept protagonist gameplay makes har...            0  \n",
       "3  expecting receive package i ordered friday aft...            1  \n",
       "4  i continue using product fragrance definitely ...            1  \n",
       "5  bit dissapointed jersey tracking number took t...            1  "
      ]
     },
     "execution_count": 29,
     "metadata": {},
     "output_type": "execute_result"
    }
   ],
   "source": [
    "data.head()"
   ]
  },
  {
   "cell_type": "code",
   "execution_count": 30,
   "metadata": {},
   "outputs": [],
   "source": [
    "#improvements\n",
    "#stemming the reviews\n",
    "\n",
    "data['Cleaned_Reviews'] = data['Cleaned_Reviews'].apply(lambda x: \" \".join([porter_stemmer.stem(word) for word in x.split()]))"
   ]
  },
  {
   "cell_type": "code",
   "execution_count": 31,
   "metadata": {},
   "outputs": [
    {
     "data": {
      "text/html": [
       "<div>\n",
       "<style scoped>\n",
       "    .dataframe tbody tr th:only-of-type {\n",
       "        vertical-align: middle;\n",
       "    }\n",
       "\n",
       "    .dataframe tbody tr th {\n",
       "        vertical-align: top;\n",
       "    }\n",
       "\n",
       "    .dataframe thead th {\n",
       "        text-align: right;\n",
       "    }\n",
       "</style>\n",
       "<table border=\"1\" class=\"dataframe\">\n",
       "  <thead>\n",
       "    <tr style=\"text-align: right;\">\n",
       "      <th></th>\n",
       "      <th>Gender</th>\n",
       "      <th>Review</th>\n",
       "      <th>Cleaned_Reviews</th>\n",
       "      <th>Gender_conv</th>\n",
       "    </tr>\n",
       "  </thead>\n",
       "  <tbody>\n",
       "    <tr>\n",
       "      <th>1</th>\n",
       "      <td>female</td>\n",
       "      <td>This nose ring is too short. It hurt my nose a...</td>\n",
       "      <td>thi nose ring it hurt nose cute post need bit ...</td>\n",
       "      <td>1</td>\n",
       "    </tr>\n",
       "    <tr>\n",
       "      <th>2</th>\n",
       "      <td>male</td>\n",
       "      <td>A great concept in mult-generational protagoni...</td>\n",
       "      <td>a great concept protagonist gameplay make hard...</td>\n",
       "      <td>0</td>\n",
       "    </tr>\n",
       "    <tr>\n",
       "      <th>3</th>\n",
       "      <td>female</td>\n",
       "      <td>Wow. Wasn't expecting to receive the package s...</td>\n",
       "      <td>expect receiv packag i order friday after i or...</td>\n",
       "      <td>1</td>\n",
       "    </tr>\n",
       "    <tr>\n",
       "      <th>4</th>\n",
       "      <td>female</td>\n",
       "      <td>I will continue using this product because it ...</td>\n",
       "      <td>i continu use product fragranc definit reorder...</td>\n",
       "      <td>1</td>\n",
       "    </tr>\n",
       "    <tr>\n",
       "      <th>5</th>\n",
       "      <td>female</td>\n",
       "      <td>i was a bit dissapointed that the jersey did n...</td>\n",
       "      <td>bit dissapoint jersey track number took till r...</td>\n",
       "      <td>1</td>\n",
       "    </tr>\n",
       "  </tbody>\n",
       "</table>\n",
       "</div>"
      ],
      "text/plain": [
       "   Gender                                             Review  \\\n",
       "1  female  This nose ring is too short. It hurt my nose a...   \n",
       "2    male  A great concept in mult-generational protagoni...   \n",
       "3  female  Wow. Wasn't expecting to receive the package s...   \n",
       "4  female  I will continue using this product because it ...   \n",
       "5  female  i was a bit dissapointed that the jersey did n...   \n",
       "\n",
       "                                     Cleaned_Reviews  Gender_conv  \n",
       "1  thi nose ring it hurt nose cute post need bit ...            1  \n",
       "2  a great concept protagonist gameplay make hard...            0  \n",
       "3  expect receiv packag i order friday after i or...            1  \n",
       "4  i continu use product fragranc definit reorder...            1  \n",
       "5  bit dissapoint jersey track number took till r...            1  "
      ]
     },
     "execution_count": 31,
     "metadata": {},
     "output_type": "execute_result"
    }
   ],
   "source": [
    "data.head()"
   ]
  },
  {
   "cell_type": "code",
   "execution_count": 32,
   "metadata": {},
   "outputs": [],
   "source": [
    "data['Word_Count'] = data['Cleaned_Reviews'].str.split().str.len()"
   ]
  },
  {
   "cell_type": "code",
   "execution_count": 33,
   "metadata": {},
   "outputs": [
    {
     "data": {
      "text/html": [
       "<div>\n",
       "<style scoped>\n",
       "    .dataframe tbody tr th:only-of-type {\n",
       "        vertical-align: middle;\n",
       "    }\n",
       "\n",
       "    .dataframe tbody tr th {\n",
       "        vertical-align: top;\n",
       "    }\n",
       "\n",
       "    .dataframe thead th {\n",
       "        text-align: right;\n",
       "    }\n",
       "</style>\n",
       "<table border=\"1\" class=\"dataframe\">\n",
       "  <thead>\n",
       "    <tr style=\"text-align: right;\">\n",
       "      <th></th>\n",
       "      <th>Gender</th>\n",
       "      <th>Review</th>\n",
       "      <th>Cleaned_Reviews</th>\n",
       "      <th>Gender_conv</th>\n",
       "      <th>Word_Count</th>\n",
       "    </tr>\n",
       "  </thead>\n",
       "  <tbody>\n",
       "    <tr>\n",
       "      <th>1</th>\n",
       "      <td>female</td>\n",
       "      <td>This nose ring is too short. It hurt my nose a...</td>\n",
       "      <td>thi nose ring it hurt nose cute post need bit ...</td>\n",
       "      <td>1</td>\n",
       "      <td>14</td>\n",
       "    </tr>\n",
       "    <tr>\n",
       "      <th>2</th>\n",
       "      <td>male</td>\n",
       "      <td>A great concept in mult-generational protagoni...</td>\n",
       "      <td>a great concept protagonist gameplay make hard...</td>\n",
       "      <td>0</td>\n",
       "      <td>19</td>\n",
       "    </tr>\n",
       "    <tr>\n",
       "      <th>3</th>\n",
       "      <td>female</td>\n",
       "      <td>Wow. Wasn't expecting to receive the package s...</td>\n",
       "      <td>expect receiv packag i order friday after i or...</td>\n",
       "      <td>1</td>\n",
       "      <td>31</td>\n",
       "    </tr>\n",
       "    <tr>\n",
       "      <th>4</th>\n",
       "      <td>female</td>\n",
       "      <td>I will continue using this product because it ...</td>\n",
       "      <td>i continu use product fragranc definit reorder...</td>\n",
       "      <td>1</td>\n",
       "      <td>8</td>\n",
       "    </tr>\n",
       "    <tr>\n",
       "      <th>5</th>\n",
       "      <td>female</td>\n",
       "      <td>i was a bit dissapointed that the jersey did n...</td>\n",
       "      <td>bit dissapoint jersey track number took till r...</td>\n",
       "      <td>1</td>\n",
       "      <td>19</td>\n",
       "    </tr>\n",
       "  </tbody>\n",
       "</table>\n",
       "</div>"
      ],
      "text/plain": [
       "   Gender                                             Review  \\\n",
       "1  female  This nose ring is too short. It hurt my nose a...   \n",
       "2    male  A great concept in mult-generational protagoni...   \n",
       "3  female  Wow. Wasn't expecting to receive the package s...   \n",
       "4  female  I will continue using this product because it ...   \n",
       "5  female  i was a bit dissapointed that the jersey did n...   \n",
       "\n",
       "                                     Cleaned_Reviews  Gender_conv  Word_Count  \n",
       "1  thi nose ring it hurt nose cute post need bit ...            1          14  \n",
       "2  a great concept protagonist gameplay make hard...            0          19  \n",
       "3  expect receiv packag i order friday after i or...            1          31  \n",
       "4  i continu use product fragranc definit reorder...            1           8  \n",
       "5  bit dissapoint jersey track number took till r...            1          19  "
      ]
     },
     "execution_count": 33,
     "metadata": {},
     "output_type": "execute_result"
    }
   ],
   "source": [
    "data.head()"
   ]
  },
  {
   "cell_type": "code",
   "execution_count": 34,
   "metadata": {},
   "outputs": [],
   "source": [
    "X = data[['Cleaned_Reviews', 'Word_Count']]\n",
    "Y = data['Gender_conv']\n",
    "\n",
    "#test train split\n",
    "X_train, X_test, y_train, y_test = train_test_split(X, Y, test_size=0.2, random_state = 0)"
   ]
  },
  {
   "cell_type": "code",
   "execution_count": 35,
   "metadata": {},
   "outputs": [],
   "source": [
    "from sklearn.base import BaseEstimator, TransformerMixin\n",
    "\n",
    "class TextSelector(BaseEstimator, TransformerMixin):\n",
    "    def __init__(self, field):\n",
    "        self.field = field\n",
    "    def fit(self, X, y=None):\n",
    "        return self\n",
    "    def transform(self, X):\n",
    "        return X[self.field]\n",
    "    \n",
    "    \n",
    "class NumberSelector(BaseEstimator, TransformerMixin):\n",
    "    def __init__(self, field):\n",
    "        self.field = field\n",
    "    def fit(self, X, y=None):\n",
    "        return self\n",
    "    def transform(self, X):\n",
    "        return X[[self.field]]"
   ]
  },
  {
   "cell_type": "code",
   "execution_count": 36,
   "metadata": {},
   "outputs": [],
   "source": [
    "classifier = Pipeline([\n",
    "    ('features', FeatureUnion([\n",
    "        ('text', Pipeline([\n",
    "            ('colext', TextSelector('Cleaned_Reviews')),\n",
    "            ('tfidf', TfidfVectorizer( stop_words=\"english\",\n",
    "                     min_df=.0025, max_df=0.25, ngram_range=(1,3))),\n",
    "            ('svd', TruncatedSVD(algorithm='randomized', n_components=300))\n",
    "        ])),\n",
    "        ('words', Pipeline([\n",
    "            ('wordext', NumberSelector('Word_Count')),\n",
    "            ('wscaler', StandardScaler()),\n",
    "        ])),\n",
    "    ])),\n",
    "    ('clf', XGBClassifier(max_depth=3, n_estimators=300, learning_rate=0.1))\n",
    "    ])"
   ]
  },
  {
   "cell_type": "code",
   "execution_count": 37,
   "metadata": {},
   "outputs": [
    {
     "data": {
      "text/plain": [
       "Pipeline(memory=None,\n",
       "     steps=[('features', FeatureUnion(n_jobs=1,\n",
       "       transformer_list=[('text', Pipeline(memory=None,\n",
       "     steps=[('colext', TextSelector(field='Cleaned_Reviews')), ('tfidf', TfidfVectorizer(analyzer='word', binary=False, decode_error='strict',\n",
       "        dtype=<class 'numpy.int64'>, encoding='utf-8', inp...\n",
       "       reg_alpha=0, reg_lambda=1, scale_pos_weight=1, seed=None,\n",
       "       silent=True, subsample=1))])"
      ]
     },
     "execution_count": 37,
     "metadata": {},
     "output_type": "execute_result"
    }
   ],
   "source": [
    "classifier.fit(X_train,y_train)"
   ]
  },
  {
   "cell_type": "code",
   "execution_count": 38,
   "metadata": {},
   "outputs": [
    {
     "name": "stderr",
     "output_type": "stream",
     "text": [
      "/home/rachneet/anaconda3/lib/python3.6/site-packages/sklearn/preprocessing/label.py:151: DeprecationWarning: The truth value of an empty array is ambiguous. Returning False, but in future this will result in an error. Use `array.size > 0` to check that an array is not empty.\n",
      "  if diff:\n"
     ]
    }
   ],
   "source": [
    "preds = classifier.predict(X_test)"
   ]
  },
  {
   "cell_type": "code",
   "execution_count": 39,
   "metadata": {},
   "outputs": [
    {
     "name": "stdout",
     "output_type": "stream",
     "text": [
      "Accuracy: 0.6744\n",
      "Precision: 0.6792626728110599\n",
      "             precision    recall  f1-score   support\n",
      "\n",
      "          0       0.67      0.69      0.68      9987\n",
      "          1       0.68      0.66      0.67     10013\n",
      "\n",
      "avg / total       0.67      0.67      0.67     20000\n",
      "\n",
      "[[6855 3132]\n",
      " [3380 6633]]\n"
     ]
    }
   ],
   "source": [
    "from sklearn.metrics import accuracy_score, precision_score, classification_report, confusion_matrix\n",
    "print(\"Accuracy:\", accuracy_score(y_test, preds))\n",
    "print(\"Precision:\", precision_score(y_test, preds))\n",
    "print(classification_report(y_test, preds))\n",
    "print(confusion_matrix(y_test, preds))\n",
    "\n",
    "# [[ true_negatives   false_positives]\n",
    "#  [ false_negatives  true_positives]]"
   ]
  },
  {
   "cell_type": "code",
   "execution_count": null,
   "metadata": {},
   "outputs": [],
   "source": []
  }
 ],
 "metadata": {
  "kernelspec": {
   "display_name": "Python 3",
   "language": "python",
   "name": "python3"
  },
  "language_info": {
   "codemirror_mode": {
    "name": "ipython",
    "version": 3
   },
   "file_extension": ".py",
   "mimetype": "text/x-python",
   "name": "python",
   "nbconvert_exporter": "python",
   "pygments_lexer": "ipython3",
   "version": "3.6.5"
  }
 },
 "nbformat": 4,
 "nbformat_minor": 2
}
